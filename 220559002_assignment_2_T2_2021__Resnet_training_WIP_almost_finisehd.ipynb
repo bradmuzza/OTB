{
  "nbformat": 4,
  "nbformat_minor": 0,
  "metadata": {
    "accelerator": "GPU",
    "colab": {
      "name": "220559002_assignment_2_T2_2021__Resnet_training WIP almost finisehd.ipynb",
      "provenance": [],
      "collapsed_sections": [
        "twFQbltnm8da",
        "UaHLKDLas_dF",
        "IaD5oqj3lhuI",
        "9NTjVIUkmv7S",
        "AH6ZBiECzS75",
        "C8cKfAOjpn7c"
      ],
      "machine_shape": "hm",
      "include_colab_link": true
    },
    "kernelspec": {
      "display_name": "Python 3",
      "language": "python",
      "name": "python3"
    },
    "language_info": {
      "codemirror_mode": {
        "name": "ipython",
        "version": 3
      },
      "file_extension": ".py",
      "mimetype": "text/x-python",
      "name": "python",
      "nbconvert_exporter": "python",
      "pygments_lexer": "ipython3",
      "version": "3.7.10"
    }
  },
  "cells": [
    {
      "cell_type": "markdown",
      "metadata": {
        "id": "view-in-github",
        "colab_type": "text"
      },
      "source": [
        "<a href=\"https://colab.research.google.com/github/bradmuzza/OTB/blob/master/220559002_assignment_2_T2_2021__Resnet_training_WIP_almost_finisehd.ipynb\" target=\"_parent\"><img src=\"https://colab.research.google.com/assets/colab-badge.svg\" alt=\"Open In Colab\"/></a>"
      ]
    },
    {
      "cell_type": "markdown",
      "metadata": {
        "id": "wjif_5FsdOFz"
      },
      "source": [
        "# SIT744 Assignment 2: Transfer learning and Efficient Training of Deep Learning Models \n",
        "\n",
        "<div class=\"alert-info\">\n",
        "    <p>Due: <strong>8:00pm 20 September 2021</strong>  (Monday)</p>\n",
        "\n",
        "This is an <strong>individual</strong> assignment. It contributes <strong>45%</strong> to your final mark. Read the assignment instruction carefully.\n",
        "\n",
        "<h2> What to submit </h2>\n",
        "\n",
        "<p>\n",
        "This assignment is to be completed individually and submitted to CloudDeakin. <strong>By the due date, you are required to submit the following files to the corresponding Assignment (Dropbox) in CloudDeakin</strong>:\n",
        "\n",
        "<ol>\n",
        "<li>\t<strong>[YourID]_assignment2_solution.ipynp</strong>:  This is your Python notebook solution source file. </li>\n",
        "<li>\t<strong>[YourID]_assingment2_output.html</strong>: This is the output of your Python notebook solution <emph>exported</emph> in HTML format.</li>\n",
        "<li>\tExtra files needed to complete your assignment, if any (e.g., images used in your answers).</li>\n",
        "</ol>\n",
        "</p>\n",
        "\n",
        "<p>\n",
        "For example, if your student ID is: 123456, you will then need to submit the following files:\n",
        "<ul>\n",
        "<li> 123456_assignment2_solution.ipynp </li>\n",
        "<li> 123456_assignment2_output.html</li>\n",
        "</ul>\n",
        "</p>\n",
        "\n",
        "<h2> Warning </h2>\n",
        "\n",
        "Some components of this assignment may involve heavy computation that runs for a long duration. Please start early to avoid missing the assignment due date.\n",
        "\n",
        "<h2> Marking criteria </h2>\n",
        "\n",
        "<p>\n",
        "Your submission will be marked using the following criteria.\n",
        "\n",
        "<ul>\n",
        "<li> Showing good effort through completed tasks.</li>\n",
        "<li> Applying deep learning theory to design suitable deep learning solutions for the tasks.</li>\n",
        "<li> Critically evaluating and reflecting on the pros and cons of various design decisions.</li>\n",
        "<li> Demonstrating creativity and resourcefulness in providing unique individual solutions.</li>\n",
        "<li> Showing attention to details through a good quality assignment report.</li>\n",
        "</ul>\n",
        "</p>\n",
        "\n",
        "<p>\n",
        "Indicative weights of various tasks are provided, but the assignment will be marked by the overall quality per the above criteria.\n",
        "</p>\n",
        "</div>"
      ]
    },
    {
      "cell_type": "code",
      "metadata": {
        "colab": {
          "base_uri": "https://localhost:8080/"
        },
        "id": "ONAptrkRiDeh",
        "outputId": "65d992a3-9660-4695-fb20-ce86da8c4710"
      },
      "source": [
        "import tensorflow as tf\n",
        "import tensorflow_datasets as tfds\n",
        "from tensorflow import keras\n",
        "from tensorflow.keras.models import Sequential\n",
        "from tensorflow.keras.layers import Dense\n",
        "from tensorflow.keras.utils import plot_model\n",
        "from tensorflow.keras import initializers\n",
        "import matplotlib.pyplot as plt\n",
        "import pandas as pd \n",
        "import numpy as np\n",
        "import PIL\n",
        "import PIL.Image\n",
        "import io\n",
        "from IPython.display import Image\n",
        "import pydot\n",
        "import graphviz\n",
        "from tensorflow.keras.callbacks import ModelCheckpoint, EarlyStopping,TensorBoard\n",
        "import datetime \n",
        "from google.colab import drive\n",
        "from keras.layers import BatchNormalization\n",
        "drive.mount('/content/drive')"
      ],
      "execution_count": null,
      "outputs": [
        {
          "output_type": "stream",
          "name": "stdout",
          "text": [
            "Mounted at /content/drive\n"
          ]
        }
      ]
    },
    {
      "cell_type": "markdown",
      "metadata": {
        "id": "twFQbltnm8da"
      },
      "source": [
        "## Assignment objective\n",
        "\n",
        "This assignment is to feedback on your learning in deep learning theory and its application to  data analytics or artificial intelligence problems.  \n",
        "\n",
        "It builds on Assignment 1 but requires a higher level of mastery of deep learning theory and programming/engineering skills. In particular, you will experience training a much deeper network on a large-scale dataset. You will encounter  practical issues that help you consolidate textbook learning. "
      ]
    },
    {
      "cell_type": "markdown",
      "metadata": {
        "id": "3ITc1hw_o7qV"
      },
      "source": [
        "## Task 1 Solving MNIST with Convolutional Neural Networks\n",
        "\n",
        "*(weight ~15%)*\n",
        "\n",
        "In Assignment 1, you tackled the image classification problem in MNIST. There, you used a Densely Connected Neural Network. You should now know that is not an optimal model architecture for the problem. In Assignment 2, you will apply the best practices of deep-learning computer vision to achieve better image classification performance."
      ]
    },
    {
      "cell_type": "markdown",
      "metadata": {
        "id": "zdHwmgwOpEfx"
      },
      "source": [
        "### Task 1.1 Revisit MNIST classification with DNN\n",
        "\n",
        "*(weight ~1%)*\n",
        "\n",
        "Review your Assignment 1 solution, and reproduce the experiment here. Try to improve the model without changing the model architecture.\n"
      ]
    },
    {
      "cell_type": "code",
      "metadata": {
        "id": "mOGD7UfxlZls",
        "colab": {
          "base_uri": "https://localhost:8080/"
        },
        "outputId": "b09558d6-0e76-4645-aea5-509c1f971caa"
      },
      "source": [
        "#increase the training time and patience = 300, batch size up to 256 on Early stopage and epochs =1500 \n",
        "\n",
        "data_set = keras.datasets.mnist\n",
        "(x_train, y_train), (xtest, ytest)= data_set.load_data() \n",
        "\n",
        "batchSize = 256 \n",
        "validationSetSize = 10_000\n",
        "\n",
        "def transformdata(image,label):\n",
        "  image =  tf.cast(image, tf.float32)/255\n",
        "  lable  =  tf.one_hot(label,10)\n",
        "  return tf.reshape(image,[28*28,]),label\n",
        "\n",
        "  \n",
        "dataset = tf.data.Dataset.from_tensor_slices((x_train,y_train)).map(lambda x,y:(transformdata(x,y)), num_parallel_calls=tf.data.AUTOTUNE).prefetch(tf.data.AUTOTUNE).shuffle(1000)\n",
        "\n",
        "test_dataset = tf.data.Dataset.from_tensor_slices((xtest,ytest)).map(lambda x,y:(transformdata(x,y)),num_parallel_calls=tf.data.AUTOTUNE).prefetch(tf.data.AUTOTUNE).batch(10000)\n",
        "\n",
        "val_dataset = dataset.take(validationSetSize).batch(batchSize)\n",
        "train_dataset =dataset.skip(validationSetSize).batch(batchSize)"
      ],
      "execution_count": null,
      "outputs": [
        {
          "output_type": "stream",
          "name": "stdout",
          "text": [
            "Downloading data from https://storage.googleapis.com/tensorflow/tf-keras-datasets/mnist.npz\n",
            "11493376/11490434 [==============================] - 0s 0us/step\n",
            "11501568/11490434 [==============================] - 0s 0us/step\n"
          ]
        }
      ]
    },
    {
      "cell_type": "code",
      "metadata": {
        "colab": {
          "base_uri": "https://localhost:8080/"
        },
        "id": "Q8EJHolxiBBt",
        "outputId": "3cde7540-396c-445a-a04c-f708227d57cd"
      },
      "source": [
        "model = keras.models.Sequential([\n",
        "keras.layers.InputLayer(input_shape=(28 * 28,)),\n",
        "keras.layers.Dense(512,activation = 'relu'), \n",
        "BatchNormalization(),                \n",
        "keras.layers.Dense(124,activation = 'relu'),\n",
        "BatchNormalization(),    \n",
        "keras.layers.Dense(30,activation = 'relu'), \n",
        "BatchNormalization(),                                               \n",
        "keras.layers.Dense(10,activation = 'softmax')\n",
        "])\n",
        "print(model.summary())\n",
        "model.compile(loss= keras.losses.sparse_categorical_crossentropy, optimizer=keras.optimizers.Adam(),metrics=[\"accuracy\"])\n",
        "\n",
        "plot_model(model=model,show_shapes=True,show_layer_names=True)\n",
        "Image(\"model.png\")\n",
        "\n",
        "TB =TensorBoard(\n",
        "    log_dir=\"./logs/run 1.1\",\n",
        "    histogram_freq=0,\n",
        "    write_images=True,\n",
        "    write_graph=True\n",
        ")\n",
        "\n",
        "ES=EarlyStopping(\n",
        "    monitor=\"val_loss\",\n",
        "    min_delta=0,\n",
        "    patience=300,\n",
        "    verbose=1,\n",
        "    mode=\"min\",\n",
        "    baseline=None,\n",
        "    restore_best_weights=True,\n",
        ")\n",
        "MC = ModelCheckpoint(\n",
        "    filepath=\"drive/MyDrive/my_best_model.epoch{epoch:02d}-loss{val_loss:.2f} run 1.hdf5\",\n",
        "    monitor=\"val_loss\",\n",
        "    verbose=0,\n",
        "    save_best_only=True,\n",
        "    save_weights_only=True,\n",
        "    mode=\"auto\",\n",
        "    save_freq=\"epoch\",\n",
        " \n",
        ")\n",
        "epochs =2000\n",
        "history = model.fit(train_dataset,epochs=epochs,callbacks= [TB,ES,MC], verbose=0, validation_data=val_dataset) "
      ],
      "execution_count": null,
      "outputs": [
        {
          "output_type": "stream",
          "text": [
            "Model: \"sequential\"\n",
            "_________________________________________________________________\n",
            "Layer (type)                 Output Shape              Param #   \n",
            "=================================================================\n",
            "dense (Dense)                (None, 512)               401920    \n",
            "_________________________________________________________________\n",
            "batch_normalization (BatchNo (None, 512)               2048      \n",
            "_________________________________________________________________\n",
            "dense_1 (Dense)              (None, 124)               63612     \n",
            "_________________________________________________________________\n",
            "batch_normalization_1 (Batch (None, 124)               496       \n",
            "_________________________________________________________________\n",
            "dense_2 (Dense)              (None, 30)                3750      \n",
            "_________________________________________________________________\n",
            "batch_normalization_2 (Batch (None, 30)                120       \n",
            "_________________________________________________________________\n",
            "dense_3 (Dense)              (None, 10)                310       \n",
            "=================================================================\n",
            "Total params: 472,256\n",
            "Trainable params: 470,924\n",
            "Non-trainable params: 1,332\n",
            "_________________________________________________________________\n",
            "None\n",
            "Restoring model weights from the end of the best epoch.\n",
            "Epoch 00468: early stopping\n"
          ],
          "name": "stdout"
        }
      ]
    },
    {
      "cell_type": "code",
      "metadata": {
        "colab": {
          "base_uri": "https://localhost:8080/"
        },
        "id": "HIxtOFyQsn_E",
        "outputId": "452a1acb-e560-45a0-d745-06e18fc339bb"
      },
      "source": [
        "print(\"test score\")\n",
        "print(model.evaluate(test_dataset, verbose=1))\n",
        "model.save(\"./drive/My Drive/DNN_model\")\n",
        "print(\"validation score\")\n",
        "print(model.evaluate(val_dataset, verbose=1))"
      ],
      "execution_count": null,
      "outputs": [
        {
          "output_type": "stream",
          "text": [
            "test score\n",
            "1/1 [==============================] - 0s 475ms/step - loss: 0.0843 - accuracy: 0.9854\n",
            "[0.08428336679935455, 0.9854000210762024]\n",
            "INFO:tensorflow:Assets written to: ./drive/My Drive/DNN_model/assets\n",
            "validation score\n",
            "40/40 [==============================] - 1s 15ms/step - loss: 0.0537 - accuracy: 0.9904\n",
            "[0.05374030023813248, 0.9904000163078308]\n"
          ],
          "name": "stdout"
        }
      ]
    },
    {
      "cell_type": "code",
      "metadata": {
        "id": "Zfnxftp2wpbg"
      },
      "source": [
        "# save history \n",
        "np.save('./drive/My Drive/DNN_model_history.npy',history.history)"
      ],
      "execution_count": null,
      "outputs": []
    },
    {
      "cell_type": "code",
      "metadata": {
        "colab": {
          "base_uri": "https://localhost:8080/",
          "height": 483
        },
        "id": "kI5MbFcTy_s4",
        "outputId": "bf53ffa3-99e9-45be-f262-7d46655e9c05"
      },
      "source": [
        "plt.figure(figsize = (10,8))\n",
        "plt.plot(history.history[\"loss\"], label=\"Train loss\")\n",
        "plt.plot(history.history[\"val_loss\"], label=\"Validation loss\")\n",
        "plt.legend()\n",
        "plt.show()"
      ],
      "execution_count": null,
      "outputs": [
        {
          "output_type": "display_data",
          "data": {
            "image/png": "[encoded data removed]",
            "text/plain": [
              "<Figure size 720x576 with 1 Axes>"
            ]
          },
          "metadata": {
            "needs_background": "light"
          }
        }
      ]
    },
    {
      "cell_type": "code",
      "metadata": {
        "colab": {
          "base_uri": "https://localhost:8080/",
          "height": 483
        },
        "id": "xo_CGxbezJfn",
        "outputId": "deb769d9-73d5-4747-f732-8bbbcb74eeb1"
      },
      "source": [
        "plt.figure(figsize = (10,8))\n",
        "plt.plot(history.history[\"accuracy\"], label=\"Train Acc\")\n",
        "plt.plot(history.history[\"val_accuracy\"], label=\"Validation Acc\")\n",
        "plt.legend()\n",
        "plt.show()"
      ],
      "execution_count": null,
      "outputs": [
        {
          "output_type": "display_data",
          "data": {
            "image/png": "[encoded data removed]",
            "text/plain": [
              "<Figure size 720x576 with 1 Axes>"
            ]
          },
          "metadata": {
            "needs_background": "light"
          }
        }
      ]
    },
    {
      "cell_type": "markdown",
      "metadata": {
        "id": "cfTL_5kPsl4j"
      },
      "source": [
        "### Task 1.2 Train a ConvNet from scratch\n",
        "\n",
        "*(weight ~5%)*\n",
        "\n",
        "Build a ConvNet to replace the densely connected network in Task 1.1. Report the classification accuracy on the test set. Aim to achieve higher accuracy. \n",
        "\n"
      ]
    },
    {
      "cell_type": "code",
      "metadata": {
        "colab": {
          "base_uri": "https://localhost:8080/"
        },
        "id": "yWAgxOi56Nw_",
        "outputId": "fdb6694c-2dce-4fc0-a0cf-70ca5fc5cb9f"
      },
      "source": [
        "\n",
        "batchSize = 256 \n",
        "validationSetSize = 10_000\n",
        "\n",
        "def transformdata(image,label):\n",
        "  image =  tf.cast(image, tf.float32)/255\n",
        "  lable  =  tf.one_hot(label,10)\n",
        "  return tf.reshape(image,[28,28,1]),label\n",
        "\n",
        "dataset = tf.data.Dataset.from_tensor_slices((x_train,y_train)).map(lambda x,y:transformdata(x,y),num_parallel_calls=tf.data.AUTOTUNE).cache().shuffle(10*batchSize)\n",
        "\n",
        "test_dataset = tf.data.Dataset.from_tensor_slices((xtest,ytest)).map(lambda x,y:transformdata(x,y),num_parallel_calls=tf.data.AUTOTUNE).cache().batch(10000)\n",
        "\n",
        "val_dataset = dataset.take(validationSetSize).batch(batchSize).prefetch(tf.data.AUTOTUNE)\n",
        "train_dataset =dataset.skip(validationSetSize).batch(batchSize).prefetch(tf.data.AUTOTUNE)\n",
        "\n",
        "train_dataset.take(1)"
      ],
      "execution_count": null,
      "outputs": [
        {
          "output_type": "execute_result",
          "data": {
            "text/plain": [
              "<TakeDataset shapes: ((None, 28, 28, 1), (None,)), types: (tf.float32, tf.uint8)>"
            ]
          },
          "metadata": {},
          "execution_count": 17
        }
      ]
    },
    {
      "cell_type": "code",
      "metadata": {
        "colab": {
          "base_uri": "https://localhost:8080/"
        },
        "id": "ppW3r2pYiT5J",
        "outputId": "348ee324-ab8c-4779-9d9c-1e6ede503cc0"
      },
      "source": [
        "conv_model= keras.models.Sequential([\n",
        "keras.layers.Conv2D(32,(3,3),activation = 'relu',input_shape=(28,28,1), padding= 'same'),\n",
        "keras.layers.MaxPooling2D(2,2),\n",
        "keras.layers.Conv2D(128,(3,3),activation = 'relu', padding= 'same'),\n",
        "keras.layers.MaxPooling2D(2,2),\n",
        "keras.layers.Conv2D(254,(3,3),activation = 'relu', padding= 'same'),\n",
        "keras.layers.Flatten(),\n",
        "keras.layers.Dense(254,activation = 'relu'), \n",
        "keras.layers.Dense(128,activation = 'relu'),                         \n",
        "keras.layers.Dense(10,activation = 'softmax')\n",
        "])\n",
        "print(conv_model.summary())\n",
        "conv_model.compile(loss= keras.losses.sparse_categorical_crossentropy, optimizer=keras.optimizers.Adam(),metrics=[\"accuracy\"])"
      ],
      "execution_count": null,
      "outputs": [
        {
          "output_type": "stream",
          "text": [
            "Model: \"sequential_4\"\n",
            "_________________________________________________________________\n",
            "Layer (type)                 Output Shape              Param #   \n",
            "=================================================================\n",
            "conv2d_15 (Conv2D)           (None, 28, 28, 32)        320       \n",
            "_________________________________________________________________\n",
            "max_pooling2d_6 (MaxPooling2 (None, 14, 14, 32)        0         \n",
            "_________________________________________________________________\n",
            "conv2d_16 (Conv2D)           (None, 14, 14, 128)       36992     \n",
            "_________________________________________________________________\n",
            "max_pooling2d_7 (MaxPooling2 (None, 7, 7, 128)         0         \n",
            "_________________________________________________________________\n",
            "conv2d_17 (Conv2D)           (None, 7, 7, 254)         292862    \n",
            "_________________________________________________________________\n",
            "flatten_3 (Flatten)          (None, 12446)             0         \n",
            "_________________________________________________________________\n",
            "dense_11 (Dense)             (None, 254)               3161538   \n",
            "_________________________________________________________________\n",
            "dense_12 (Dense)             (None, 128)               32640     \n",
            "_________________________________________________________________\n",
            "dense_13 (Dense)             (None, 10)                1290      \n",
            "=================================================================\n",
            "Total params: 3,525,642\n",
            "Trainable params: 3,525,642\n",
            "Non-trainable params: 0\n",
            "_________________________________________________________________\n",
            "None\n"
          ],
          "name": "stdout"
        }
      ]
    },
    {
      "cell_type": "code",
      "metadata": {
        "colab": {
          "base_uri": "https://localhost:8080/"
        },
        "id": "hEWQxiuLtYKQ",
        "outputId": "148e7599-443f-4833-819c-9e82ba80c4f6"
      },
      "source": [
        "\n",
        "TB =TensorBoard(\n",
        "    log_dir=\"./logs/CNN run 2.1\",\n",
        "    histogram_freq=0,\n",
        "    write_images=True,\n",
        "    write_graph=True\n",
        ")\n",
        "\n",
        "ES=EarlyStopping(\n",
        "    monitor=\"val_loss\",\n",
        "    min_delta=0,\n",
        "    patience=50,\n",
        "    verbose=1,\n",
        "    mode=\"min\",\n",
        "    baseline=None,\n",
        "    restore_best_weights=True,\n",
        ")\n",
        "epochs =2000\n",
        "history = conv_model.fit(train_dataset,epochs=epochs,callbacks= [TB,ES], verbose=0, validation_data=val_dataset) "
      ],
      "execution_count": null,
      "outputs": [
        {
          "output_type": "stream",
          "text": [
            "Restoring model weights from the end of the best epoch.\n",
            "Epoch 00502: early stopping\n"
          ],
          "name": "stdout"
        }
      ]
    },
    {
      "cell_type": "code",
      "metadata": {
        "colab": {
          "base_uri": "https://localhost:8080/"
        },
        "id": "bV1rKCD52XPB",
        "outputId": "6b4efb18-67c6-49f0-bd11-44e04cab8b84"
      },
      "source": [
        "print(\"test score\")\n",
        "print(conv_model.evaluate(test_dataset, verbose=1))\n",
        "conv_model.save(\"./drive/My Drive/CNN_model 2\")\n",
        "print(\"validation score\")\n",
        "print(conv_model.evaluate(val_dataset, verbose=1))\n",
        "np.save('./drive/My Drive/CNN_model_history_2.npy',history.history)"
      ],
      "execution_count": null,
      "outputs": [
        {
          "output_type": "stream",
          "text": [
            "test score\n",
            "1/1 [==============================] - 1s 668ms/step - loss: 0.0801 - accuracy: 0.9941\n",
            "[0.08009826391935349, 0.9940999746322632]\n",
            "INFO:tensorflow:Assets written to: ./drive/My Drive/CNN_model 2/assets\n",
            "validation score\n",
            "40/40 [==============================] - 1s 15ms/step - loss: 0.0010 - accuracy: 0.9998\n",
            "[0.0010043323272839189, 0.9998000264167786]\n"
          ],
          "name": "stdout"
        }
      ]
    },
    {
      "cell_type": "code",
      "metadata": {
        "colab": {
          "base_uri": "https://localhost:8080/",
          "height": 483
        },
        "id": "2XYAP1Md2uj8",
        "outputId": "46371130-1329-4ca6-a561-2e560a0140fa"
      },
      "source": [
        "plt.figure(figsize = (10,8))\n",
        "plt.plot(history.history[\"loss\"], label=\"Train loss\")\n",
        "plt.plot(history.history[\"val_loss\"], label=\"Validation loss\")\n",
        "plt.legend()\n",
        "plt.show()"
      ],
      "execution_count": null,
      "outputs": [
        {
          "output_type": "display_data",
          "data": {
            "image/png": "[encoded data removed]",
            "text/plain": [
              "<Figure size 720x576 with 1 Axes>"
            ]
          },
          "metadata": {
            "needs_background": "light"
          }
        }
      ]
    },
    {
      "cell_type": "code",
      "metadata": {
        "colab": {
          "base_uri": "https://localhost:8080/",
          "height": 483
        },
        "id": "GDhXT5in2x6c",
        "outputId": "51c90687-5f55-426d-91c3-97cba13b6148"
      },
      "source": [
        "plt.figure(figsize = (10,8))\n",
        "plt.plot(history.history[\"accuracy\"], label=\"Train Acc\")\n",
        "plt.plot(history.history[\"val_accuracy\"], label=\"Validation Acc\")\n",
        "plt.legend()\n",
        "plt.show()"
      ],
      "execution_count": null,
      "outputs": [
        {
          "output_type": "display_data",
          "data": {
            "image/png": "[encoded data removed]",
            "text/plain": [
              "<Figure size 720x576 with 1 Axes>"
            ]
          },
          "metadata": {
            "needs_background": "light"
          }
        }
      ]
    },
    {
      "cell_type": "markdown",
      "metadata": {
        "id": "qbhr44DnMbKZ"
      },
      "source": [
        "\n",
        "### Task 1.3 Build an input pipeline for data augmentation\n",
        "\n",
        "*(weight ~3%)*\n",
        "\n",
        "Build a data preprocessing pipeline to perform data augmentation. (You may use Keras ImageDataGenerator or write your own transformations.)\n",
        "\n",
        "- Report the new classification accuracy. Make sure that you use the same number of training epochs as in Task 1.2.\n",
        "\n",
        "- (Optional) Profile your input pipeline to identify the most time-consuming operation. What actions have you taken to address that slow operation? (*Hint: You may use the [TensorFlow Profiler](https://github.com/tensorflow/profiler).*)"
      ]
    },
    {
      "cell_type": "code",
      "metadata": {
        "colab": {
          "base_uri": "https://localhost:8080/"
        },
        "id": "xoPawQrSOS-x",
        "outputId": "e44708fa-6bf5-47d1-8070-5e2c0dedfce9"
      },
      "source": [
        "Image_size= 28 \n",
        "batchSize = 256\n",
        "def randomise_image(image):\n",
        "  image = tf.image.random_flip_left_right(image)\n",
        "  image = tf.image.random_flip_up_down(image)\n",
        "  image = tf.image.random_flip_left_right(image)\n",
        "  image = tf.image.random_crop(image,size=(Image_size,Image_size,1))\n",
        "  image = tf.image.resize(image, (Image_size, Image_size))\n",
        "  return image\n",
        " \n",
        "dataset = tf.data.Dataset.from_tensor_slices((x_train,y_train)).map(lambda x,y:transformdata(x,y)).map(lambda w,z:(randomise_image(w),z), num_parallel_calls=tf.data.AUTOTUNE).prefetch(tf.data.AUTOTUNE).shuffle(10*batchSize).repeat()\n",
        "test_dataset = tf.data.Dataset.from_tensor_slices((xtest,ytest)).map(lambda x,y:transformdata(x,y)).map(lambda w,z:(randomise_image(w),z), num_parallel_calls=tf.data.AUTOTUNE).prefetch(tf.data.AUTOTUNE).batch(10000)\n",
        "val_dataset = dataset.take(validationSetSize).batch(batchSize)\n",
        "train_dataset =dataset.skip(validationSetSize).batch(batchSize)\n",
        "\n",
        "conv_model_data_aug= keras.models.Sequential([\n",
        "keras.layers.Conv2D(32,(3,3),activation = 'relu',input_shape=(28,28,1), padding= 'same'),\n",
        "keras.layers.MaxPooling2D(2,2),\n",
        "keras.layers.Conv2D(128,(3,3),activation = 'relu', padding= 'same'),\n",
        "keras.layers.MaxPooling2D(2,2),\n",
        "keras.layers.Conv2D(254,(3,3),activation = 'relu', padding= 'same'),\n",
        "keras.layers.Flatten(),\n",
        "keras.layers.Dense(254,activation = 'relu'), \n",
        "keras.layers.Dense(128,activation = 'relu'),                         \n",
        "keras.layers.Dense(10,activation = 'softmax')\n",
        "])\n",
        "print(conv_model_data_aug.summary())\n",
        "conv_model_data_aug.compile(loss= keras.losses.sparse_categorical_crossentropy, optimizer=keras.optimizers.Adam(),metrics=[\"accuracy\"])\n",
        "\n",
        "TB =TensorBoard(\n",
        "    log_dir=\"./logs/CNN run 2 data aug\",\n",
        "    histogram_freq=0,\n",
        "    write_images=True,\n",
        "    write_graph=True\n",
        ")\n",
        "\n",
        "ES=EarlyStopping(\n",
        "    monitor=\"val_loss\",\n",
        "    min_delta=0,\n",
        "    patience=50,\n",
        "    verbose=1,\n",
        "    mode=\"min\",\n",
        "    baseline=None,\n",
        "    restore_best_weights=True,\n",
        ")\n",
        "\n",
        "epochs =502 \n",
        "history = conv_model_data_aug.fit(train_dataset, steps_per_epoch=int(50000/batchSize), validation_steps =int(10000/batchSize) ,epochs=epochs,callbacks= [TB,ES], verbose=0, validation_data=val_dataset) "
      ],
      "execution_count": null,
      "outputs": [
        {
          "output_type": "stream",
          "text": [
            "Model: \"sequential_8\"\n",
            "_________________________________________________________________\n",
            "Layer (type)                 Output Shape              Param #   \n",
            "=================================================================\n",
            "conv2d_27 (Conv2D)           (None, 28, 28, 32)        320       \n",
            "_________________________________________________________________\n",
            "max_pooling2d_14 (MaxPooling (None, 14, 14, 32)        0         \n",
            "_________________________________________________________________\n",
            "conv2d_28 (Conv2D)           (None, 14, 14, 128)       36992     \n",
            "_________________________________________________________________\n",
            "max_pooling2d_15 (MaxPooling (None, 7, 7, 128)         0         \n",
            "_________________________________________________________________\n",
            "conv2d_29 (Conv2D)           (None, 7, 7, 254)         292862    \n",
            "_________________________________________________________________\n",
            "flatten_7 (Flatten)          (None, 12446)             0         \n",
            "_________________________________________________________________\n",
            "dense_23 (Dense)             (None, 254)               3161538   \n",
            "_________________________________________________________________\n",
            "dense_24 (Dense)             (None, 128)               32640     \n",
            "_________________________________________________________________\n",
            "dense_25 (Dense)             (None, 10)                1290      \n",
            "=================================================================\n",
            "Total params: 3,525,642\n",
            "Trainable params: 3,525,642\n",
            "Non-trainable params: 0\n",
            "_________________________________________________________________\n",
            "None\n",
            "Restoring model weights from the end of the best epoch.\n",
            "Epoch 00353: early stopping\n"
          ],
          "name": "stdout"
        }
      ]
    },
    {
      "cell_type": "code",
      "metadata": {
        "id": "hwBhm1qLa7BT"
      },
      "source": [
        ""
      ],
      "execution_count": null,
      "outputs": []
    },
    {
      "cell_type": "code",
      "metadata": {
        "colab": {
          "base_uri": "https://localhost:8080/"
        },
        "id": "b83VdAMWTm7Q",
        "outputId": "0df57a06-5efc-4931-f196-4e7ed46b6b4e"
      },
      "source": [
        "print(\"test score\")\n",
        "print(conv_model_data_aug.evaluate(test_dataset, verbose=1))\n",
        "conv_model_data_aug.save(\"./drive/My Drive/CNN_model 2 data_aug\")\n",
        "print(\"validation score\")\n",
        "print(conv_model_data_aug.evaluate(val_dataset, verbose=1))\n",
        "np.save('./drive/My Drive/CNN_model_history_2 data_aug.npy',history.history)"
      ],
      "execution_count": null,
      "outputs": [
        {
          "output_type": "stream",
          "text": [
            "test score\n",
            "1/1 [==============================] - 2s 2s/step - loss: 0.1400 - accuracy: 0.9844\n",
            "[0.14000779390335083, 0.9843999743461609]\n",
            "INFO:tensorflow:Assets written to: ./drive/My Drive/CNN_model 2 data_aug/assets\n",
            "validation score\n",
            "40/40 [==============================] - 2s 37ms/step - loss: 7.4724e-05 - accuracy: 1.0000\n",
            "[7.472401921404526e-05, 1.0]\n"
          ],
          "name": "stdout"
        }
      ]
    },
    {
      "cell_type": "code",
      "metadata": {
        "colab": {
          "base_uri": "https://localhost:8080/",
          "height": 483
        },
        "id": "Q0FgUOF3TzIV",
        "outputId": "24af89d9-832f-4784-fadb-3f6209294d8b"
      },
      "source": [
        "plt.figure(figsize = (10,8))\n",
        "plt.plot(history.history[\"loss\"], label=\"Train loss\")\n",
        "plt.plot(history.history[\"val_loss\"], label=\"Validation loss\")\n",
        "plt.legend()\n",
        "plt.show()"
      ],
      "execution_count": null,
      "outputs": [
        {
          "output_type": "display_data",
          "data": {
            "image/png": "[encoded data removed]",
            "text/plain": [
              "<Figure size 720x576 with 1 Axes>"
            ]
          },
          "metadata": {
            "needs_background": "light"
          }
        }
      ]
    },
    {
      "cell_type": "code",
      "metadata": {
        "colab": {
          "base_uri": "https://localhost:8080/",
          "height": 483
        },
        "id": "2epO5hTcTzTo",
        "outputId": "cde64e31-0ae6-497e-c587-3f54aaae81d9"
      },
      "source": [
        "plt.figure(figsize = (10,8))\n",
        "plt.plot(history.history[\"accuracy\"], label=\"Train Acc\")\n",
        "plt.plot(history.history[\"val_accuracy\"], label=\"Validation Acc\")\n",
        "plt.legend()\n",
        "plt.show()"
      ],
      "execution_count": null,
      "outputs": [
        {
          "output_type": "display_data",
          "data": {
            "image/png": "[encoded data removed]",
            "text/plain": [
              "<Figure size 720x576 with 1 Axes>"
            ]
          },
          "metadata": {
            "needs_background": "light"
          }
        }
      ]
    },
    {
      "cell_type": "markdown",
      "metadata": {
        "id": "prctXU4BswKK"
      },
      "source": [
        "### Task 1.4 MNIST with transfer learning\n",
        "\n",
        "*(weight ~3%)*\n",
        "\n",
        "Use a pretrained model as the convolutional base to improve the classification performance. (Hint: You may use models in Keras Applications or those in the TensorFlow Hub.)\n",
        "\n",
        "- Try both with fine-tuning and without fine-tuning.\n",
        "- Report the model performance as before.\n",
        "\n"
      ]
    },
    {
      "cell_type": "code",
      "metadata": {
        "colab": {
          "base_uri": "https://localhost:8080/"
        },
        "id": "9__WtYwX7Rl6",
        "outputId": "fa5f036d-efb6-4d76-df97-33da7687045b"
      },
      "source": [
        "from keras.applications.vgg16 import preprocess_input\n",
        "from keras.preprocessing.image import ImageDataGenerator, load_img, img_to_array, array_to_img\n",
        "\n",
        "Image_size= 75 \n",
        "batchSize = 256\n",
        "validationSetSize = 10_000\n",
        "\n",
        "def transformdata(image,label):\n",
        "  image =  tf.cast(image, tf.float32)/255\n",
        "  lable  =  tf.one_hot(label,10)\n",
        "  return tf.reshape(image,[28,28,1]) ,label\n",
        "\n",
        "\n",
        "#  removed data aug to compare with fine tunned model for with feature extraction \n",
        "def randomise_image(image):\n",
        "  # image = tf.image.random_flip_left_right(image)\n",
        "  # image = tf.image.random_flip_up_down(image)\n",
        "  # image = tf.image.random_flip_left_right(image)\n",
        "  image = tf.image.resize(image, (Image_size, Image_size))\n",
        "  image =tf.image.grayscale_to_rgb(image)\n",
        "  image = tf.image.convert_image_dtype(image, tf.float32)\n",
        "  return tf.keras.applications.vgg16.preprocess_input(image)\n",
        " \n",
        "dataset = tf.data.Dataset.from_tensor_slices((x_train,y_train)).map(lambda x,y:transformdata(x,y)).map(lambda w,z:(randomise_image(w),z), num_parallel_calls=tf.data.AUTOTUNE).prefetch(tf.data.AUTOTUNE).shuffle(10*batchSize).repeat()\n",
        "test_dataset = tf.data.Dataset.from_tensor_slices((xtest,ytest)).map(lambda x,y:transformdata(x,y)).map(lambda w,z:(randomise_image(w),z), num_parallel_calls=tf.data.AUTOTUNE).prefetch(tf.data.AUTOTUNE).batch(500)\n",
        "val_dataset_tran = dataset.take(validationSetSize).batch(batchSize)\n",
        "train_dataset_tran =dataset.skip(validationSetSize).batch(batchSize)\n",
        "\n",
        "\n",
        "val_dataset_tran.take(1)\n"
      ],
      "execution_count": null,
      "outputs": [
        {
          "output_type": "execute_result",
          "data": {
            "text/plain": [
              "<TakeDataset shapes: ((None, 75, 75, 3), (None,)), types: (tf.float32, tf.uint8)>"
            ]
          },
          "metadata": {},
          "execution_count": 31
        }
      ]
    },
    {
      "cell_type": "code",
      "metadata": {
        "colab": {
          "base_uri": "https://localhost:8080/"
        },
        "id": "P6Wck6j-IkDZ",
        "outputId": "bcf3d088-cd46-44a0-a9ca-d532d18098c0"
      },
      "source": [
        "\n",
        "conv_base=tf.keras.applications.VGG16(input_shape = (75, 75, 3), \n",
        "                                include_top = False, \n",
        "                                weights = 'imagenet')\n",
        "\n",
        "conv_base.trainable = False\n",
        "conv_base.summary()\n",
        "\n"
      ],
      "execution_count": null,
      "outputs": [
        {
          "output_type": "stream",
          "name": "stdout",
          "text": [
            "Model: \"vgg16\"\n",
            "_________________________________________________________________\n",
            "Layer (type)                 Output Shape              Param #   \n",
            "=================================================================\n",
            "input_4 (InputLayer)         [(None, 75, 75, 3)]       0         \n",
            "_________________________________________________________________\n",
            "block1_conv1 (Conv2D)        (None, 75, 75, 64)        1792      \n",
            "_________________________________________________________________\n",
            "block1_conv2 (Conv2D)        (None, 75, 75, 64)        36928     \n",
            "_________________________________________________________________\n",
            "block1_pool (MaxPooling2D)   (None, 37, 37, 64)        0         \n",
            "_________________________________________________________________\n",
            "block2_conv1 (Conv2D)        (None, 37, 37, 128)       73856     \n",
            "_________________________________________________________________\n",
            "block2_conv2 (Conv2D)        (None, 37, 37, 128)       147584    \n",
            "_________________________________________________________________\n",
            "block2_pool (MaxPooling2D)   (None, 18, 18, 128)       0         \n",
            "_________________________________________________________________\n",
            "block3_conv1 (Conv2D)        (None, 18, 18, 256)       295168    \n",
            "_________________________________________________________________\n",
            "block3_conv2 (Conv2D)        (None, 18, 18, 256)       590080    \n",
            "_________________________________________________________________\n",
            "block3_conv3 (Conv2D)        (None, 18, 18, 256)       590080    \n",
            "_________________________________________________________________\n",
            "block3_pool (MaxPooling2D)   (None, 9, 9, 256)         0         \n",
            "_________________________________________________________________\n",
            "block4_conv1 (Conv2D)        (None, 9, 9, 512)         1180160   \n",
            "_________________________________________________________________\n",
            "block4_conv2 (Conv2D)        (None, 9, 9, 512)         2359808   \n",
            "_________________________________________________________________\n",
            "block4_conv3 (Conv2D)        (None, 9, 9, 512)         2359808   \n",
            "_________________________________________________________________\n",
            "block4_pool (MaxPooling2D)   (None, 4, 4, 512)         0         \n",
            "_________________________________________________________________\n",
            "block5_conv1 (Conv2D)        (None, 4, 4, 512)         2359808   \n",
            "_________________________________________________________________\n",
            "block5_conv2 (Conv2D)        (None, 4, 4, 512)         2359808   \n",
            "_________________________________________________________________\n",
            "block5_conv3 (Conv2D)        (None, 4, 4, 512)         2359808   \n",
            "_________________________________________________________________\n",
            "block5_pool (MaxPooling2D)   (None, 2, 2, 512)         0         \n",
            "=================================================================\n",
            "Total params: 14,714,688\n",
            "Trainable params: 0\n",
            "Non-trainable params: 14,714,688\n",
            "_________________________________________________________________\n"
          ]
        }
      ]
    },
    {
      "cell_type": "code",
      "metadata": {
        "colab": {
          "base_uri": "https://localhost:8080/"
        },
        "id": "XJIRmRyjhhEN",
        "outputId": "aee7a8e8-678b-45f0-f831-751be1807394"
      },
      "source": [
        "Fine_tunning_model=keras.models.Sequential()                                         \n",
        "Fine_tunning_model.add(conv_base)\n",
        "Fine_tunning_model.add(keras.layers.Flatten())\n",
        "Fine_tunning_model.add(keras.layers.Dense(254,activation = 'relu'))\n",
        "Fine_tunning_model.add(keras.layers.Dense(128,activation = 'relu'))                         \n",
        "Fine_tunning_model.add(keras.layers.Dense(10,activation = 'softmax'))\n",
        "\n",
        "\n",
        "Fine_tunning_model.compile(loss= keras.losses.sparse_categorical_crossentropy, optimizer=keras.optimizers.Adam(2e-5),metrics=[\"accuracy\"])\n",
        "Fine_tunning_model.summary()"
      ],
      "execution_count": null,
      "outputs": [
        {
          "output_type": "stream",
          "name": "stdout",
          "text": [
            "Model: \"sequential_10\"\n",
            "_________________________________________________________________\n",
            "Layer (type)                 Output Shape              Param #   \n",
            "=================================================================\n",
            "vgg16 (Functional)           (None, 2, 2, 512)         14714688  \n",
            "_________________________________________________________________\n",
            "flatten_8 (Flatten)          (None, 2048)              0         \n",
            "_________________________________________________________________\n",
            "dense_25 (Dense)             (None, 254)               520446    \n",
            "_________________________________________________________________\n",
            "dense_26 (Dense)             (None, 128)               32640     \n",
            "_________________________________________________________________\n",
            "dense_27 (Dense)             (None, 10)                1290      \n",
            "=================================================================\n",
            "Total params: 15,269,064\n",
            "Trainable params: 554,376\n",
            "Non-trainable params: 14,714,688\n",
            "_________________________________________________________________\n"
          ]
        }
      ]
    },
    {
      "cell_type": "code",
      "metadata": {
        "id": "jeG5UQ8KDWLf"
      },
      "source": [
        "TB =TensorBoard(\n",
        "    log_dir=\"./logs/CNN run 2 data aug fine tuning -top\",\n",
        "    histogram_freq=0,\n",
        "    write_images=True,\n",
        "    write_graph=True\n",
        ")\n",
        "\n",
        "ES=EarlyStopping(\n",
        "    monitor=\"val_loss\",\n",
        "    min_delta=0,\n",
        "    patience=5,\n",
        "    verbose=1,\n",
        "    mode=\"min\",\n",
        "    baseline=None,\n",
        "    restore_best_weights=True,\n",
        ")\n",
        "\n",
        "history_before_fine_tunning =Fine_tunning_model.fit(\n",
        "      train_dataset_tran,\n",
        "      epochs=50,\n",
        "      steps_per_epoch=int(50000/batchSize), \n",
        "      validation_steps =int(10000/batchSize),\n",
        "      verbose=0, validation_data=val_dataset_tran,\n",
        "      callbacks= [TB,ES]\n",
        "      )"
      ],
      "execution_count": null,
      "outputs": []
    },
    {
      "cell_type": "code",
      "metadata": {
        "colab": {
          "base_uri": "https://localhost:8080/"
        },
        "id": "B6gndLZh_TZZ",
        "outputId": "26a69cd1-bd64-43fa-9b81-70181b805408"
      },
      "source": [
        "print(\"Results before fine tunning\")\n",
        "print(\"test score\")\n",
        "print(Fine_tunning_model.evaluate(test_dataset, verbose=1))\n",
        "Fine_tunning_model.save(\"./drive/My Drive/CNN_model_fine_tunning_aug\")\n",
        "print(\"validation score\")\n",
        "print(Fine_tunning_model.evaluate(val_dataset_tran, verbose=1))\n",
        "np.save('./drive/My Drive/CNN history_before_fine_tunning.npy',history_before_fine_tunning.history)"
      ],
      "execution_count": null,
      "outputs": [
        {
          "output_type": "stream",
          "name": "stdout",
          "text": [
            "Results before fine tunning\n",
            "test score\n",
            "20/20 [==============================] - 12s 567ms/step - loss: 0.6954 - accuracy: 0.8082\n",
            "[0.6954401731491089, 0.8082000017166138]\n",
            "INFO:tensorflow:Assets written to: ./drive/My Drive/CNN_model_fine_tunning_aug/assets\n",
            "validation score\n",
            "40/40 [==============================] - 12s 271ms/step - loss: 0.7085 - accuracy: 0.8003\n",
            "[0.7084708213806152, 0.8003000020980835]\n"
          ]
        }
      ]
    },
    {
      "cell_type": "code",
      "metadata": {
        "id": "LDH0kym95ASV"
      },
      "source": [
        "for layer in conv_base.layers:\n",
        "    if (layer.name =='block5_conv3')|(layer.name=='block5_conv2'):\n",
        "        layer.trainable = True \n",
        "    else:\n",
        "        layer.trainable = False \n"
      ],
      "execution_count": null,
      "outputs": []
    },
    {
      "cell_type": "code",
      "metadata": {
        "id": "QUJl-PS4EzpA"
      },
      "source": [
        "Fine_tunning_model.compile(loss= keras.losses.sparse_categorical_crossentropy, optimizer=keras.optimizers.Adam(2e-5),metrics=[\"accuracy\"])\n",
        "history_after_fine_tunning =Fine_tunning_model.fit(\n",
        "      train_dataset_tran,\n",
        "      epochs=30,\n",
        "      steps_per_epoch=int(50000/batchSize), \n",
        "      validation_steps =int(10000/batchSize),\n",
        "      verbose=0, validation_data=val_dataset_tran,\n",
        "      callbacks= [TB,ES]\n",
        "      )"
      ],
      "execution_count": null,
      "outputs": []
    },
    {
      "cell_type": "code",
      "metadata": {
        "id": "z_06TIZXnwiq",
        "colab": {
          "base_uri": "https://localhost:8080/"
        },
        "outputId": "b4a7cde0-f256-4e1e-c748-e7ad51bcccc3"
      },
      "source": [
        "print(\"Result After Fine tunning\")\n",
        "print(\"test score\")\n",
        "print(Fine_tunning_model.evaluate(test_dataset, verbose=1))\n",
        "Fine_tunning_model.save(\"./drive/My Drive/CNN_model_fine_tunning_aug\")\n",
        "print(\"validation score\")\n",
        "print(Fine_tunning_model.evaluate(val_dataset_tran, verbose=1))\n",
        "np.save('./drive/My Drive/CNN_history_after_fine_tunning.npy',history_after_fine_tunning.history)"
      ],
      "execution_count": null,
      "outputs": [
        {
          "output_type": "stream",
          "name": "stdout",
          "text": [
            "Result After Fine tunning\n",
            "test score\n",
            "20/20 [==============================] - 12s 579ms/step - loss: 0.5220 - accuracy: 0.8504\n",
            "[0.5219848155975342, 0.8503999710083008]\n",
            "INFO:tensorflow:Assets written to: ./drive/My Drive/CNN_model_fine_tunning_aug/assets\n",
            "validation score\n",
            "40/40 [==============================] - 12s 278ms/step - loss: 0.5307 - accuracy: 0.8434\n",
            "[0.5306852459907532, 0.8434000015258789]\n"
          ]
        }
      ]
    },
    {
      "cell_type": "markdown",
      "metadata": {
        "id": "UaHLKDLas_dF"
      },
      "source": [
        "### Task 1.5 Performance comparison\n",
        "\n",
        "*(weight ~3%)*\n",
        "\n",
        "How many parameters are trainable in each of the two settings (with and without fine-tuning)? How does the difference impact the training time?\n",
        "\n",
        "\n",
        "Which setting achieved higher accuracy? Why did it work better for this problem? \n",
        "\n",
        "Have we benefitted from using the pretrained model?\n"
      ]
    },
    {
      "cell_type": "markdown",
      "metadata": {
        "id": "ouK5NY-_pLDK"
      },
      "source": [
        "## Task 2 Fast training of deep networks\n",
        "\n",
        "*(weight ~20%)*"
      ]
    },
    {
      "cell_type": "markdown",
      "metadata": {
        "id": "LgoOE2W1pdfN"
      },
      "source": [
        "### Task 2.1 Train a highly accurate network for CIFAR10\n",
        "\n",
        "*(weight ~7%)*\n",
        "\n",
        "In this task, you will train deep neural networks on the [CIFAR10 dataset](https://www.cs.toronto.edu/~kriz/cifar.html). Compared with the datasets that you have worked on so far, CIFAR10 represents a relatively larger multi-class classification problem and presents a great opportunity for you to solve a \"harder\" problem.\n",
        "\n"
      ]
    },
    {
      "cell_type": "markdown",
      "metadata": {
        "id": "IaD5oqj3lhuI"
      },
      "source": [
        "#### Task 2.1.1 Document the hardware used\n",
        "\n",
        "Before you start, write down your hardware specifications, including \n",
        "\n",
        "- the GPU model, the number of GPUs, and the GPU memory\n",
        "- the CPU model, the number of CPUs, and the CPU clock speed\n",
        "\n",
        "(Hint: you may find commands like `nvidia-smi`, `lscpu` or `psutil` useful.)"
      ]
    },
    {
      "cell_type": "code",
      "metadata": {
        "colab": {
          "base_uri": "https://localhost:8080/"
        },
        "id": "lHgzs8Licd7M",
        "outputId": "f86a4024-a40c-40d1-f05b-a9d3f4891a68"
      },
      "source": [
        "!nvidia-smi -L"
      ],
      "execution_count": null,
      "outputs": [
        {
          "output_type": "stream",
          "name": "stdout",
          "text": [
            "GPU 0: Tesla K80 (UUID: GPU-96c54fd4-8255-76c9-4f1d-5b1508c6f8fa)\n"
          ]
        }
      ]
    },
    {
      "cell_type": "code",
      "metadata": {
        "colab": {
          "base_uri": "https://localhost:8080/"
        },
        "id": "HbTp2wwPdbeF",
        "outputId": "4ff3ca43-f7db-4f61-f7ad-2734d544f53e"
      },
      "source": [
        "from tensorflow.python.client import device_lib\n",
        "device_lib.list_local_devices()"
      ],
      "execution_count": null,
      "outputs": [
        {
          "output_type": "execute_result",
          "data": {
            "text/plain": [
              "[name: \"/device:CPU:0\"\n",
              " device_type: \"CPU\"\n",
              " memory_limit: 268435456\n",
              " locality {\n",
              " }\n",
              " incarnation: 8066128017763107074, name: \"/device:GPU:0\"\n",
              " device_type: \"GPU\"\n",
              " memory_limit: 11345264640\n",
              " locality {\n",
              "   bus_id: 1\n",
              "   links {\n",
              "   }\n",
              " }\n",
              " incarnation: 12272241093055550181\n",
              " physical_device_desc: \"device: 0, name: Tesla K80, pci bus id: 0000:00:04.0, compute capability: 3.7\"]"
            ]
          },
          "metadata": {},
          "execution_count": 48
        }
      ]
    },
    {
      "cell_type": "code",
      "metadata": {
        "colab": {
          "base_uri": "https://localhost:8080/"
        },
        "id": "sVcut7MhcmiA",
        "outputId": "70938fe4-0ba1-4eae-c034-5666abb6eb53"
      },
      "source": [
        "!lscpu"
      ],
      "execution_count": null,
      "outputs": [
        {
          "output_type": "stream",
          "name": "stdout",
          "text": [
            "Architecture:        x86_64\n",
            "CPU op-mode(s):      32-bit, 64-bit\n",
            "Byte Order:          Little Endian\n",
            "CPU(s):              2\n",
            "On-line CPU(s) list: 0,1\n",
            "Thread(s) per core:  2\n",
            "Core(s) per socket:  1\n",
            "Socket(s):           1\n",
            "NUMA node(s):        1\n",
            "Vendor ID:           GenuineIntel\n",
            "CPU family:          6\n",
            "Model:               63\n",
            "Model name:          Intel(R) Xeon(R) CPU @ 2.30GHz\n",
            "Stepping:            0\n",
            "CPU MHz:             2299.998\n",
            "BogoMIPS:            4599.99\n",
            "Hypervisor vendor:   KVM\n",
            "Virtualization type: full\n",
            "L1d cache:           32K\n",
            "L1i cache:           32K\n",
            "L2 cache:            256K\n",
            "L3 cache:            46080K\n",
            "NUMA node0 CPU(s):   0,1\n",
            "Flags:               fpu vme de pse tsc msr pae mce cx8 apic sep mtrr pge mca cmov pat pse36 clflush mmx fxsr sse sse2 ss ht syscall nx pdpe1gb rdtscp lm constant_tsc rep_good nopl xtopology nonstop_tsc cpuid tsc_known_freq pni pclmulqdq ssse3 fma cx16 pcid sse4_1 sse4_2 x2apic movbe popcnt aes xsave avx f16c rdrand hypervisor lahf_lm abm invpcid_single ssbd ibrs ibpb stibp fsgsbase tsc_adjust bmi1 avx2 smep bmi2 erms invpcid xsaveopt arat md_clear arch_capabilities\n"
          ]
        }
      ]
    },
    {
      "cell_type": "code",
      "metadata": {
        "colab": {
          "base_uri": "https://localhost:8080/"
        },
        "id": "-Cq2Bxzycr1b",
        "outputId": "ac2738c5-a33f-487a-fec3-a6b758ffc323"
      },
      "source": [
        "!psutil"
      ],
      "execution_count": null,
      "outputs": [
        {
          "output_type": "stream",
          "name": "stdout",
          "text": [
            "/bin/bash: psutil: command not found\n"
          ]
        }
      ]
    },
    {
      "cell_type": "markdown",
      "metadata": {
        "id": "adN9Tq-6lyG-"
      },
      "source": [
        "#### Task 2.1.2 Train a \"shallow\" ConvNet\n",
        "\n",
        "Build a ConvNet with fewer than 10 layers. Train the network until it converges. You will use this network as a baseline for the later experiments. \n",
        "\n",
        "- Plot the training and validation history. \n",
        "- Report the testing accuracy. "
      ]
    },
    {
      "cell_type": "code",
      "metadata": {
        "colab": {
          "base_uri": "https://localhost:8080/"
        },
        "id": "9Kwn3kp7fEIO",
        "outputId": "38e015e0-c21b-4faf-d52a-30e6a3fd77d5"
      },
      "source": [
        "data_set = keras.datasets.cifar10\n",
        "(x_train, y_train), (xtest, ytest)= data_set.load_data() \n"
      ],
      "execution_count": null,
      "outputs": [
        {
          "output_type": "stream",
          "name": "stdout",
          "text": [
            "Downloading data from https://www.cs.toronto.edu/~kriz/cifar-10-python.tar.gz\n",
            "170500096/170498071 [==============================] - 2s 0us/step\n",
            "170508288/170498071 [==============================] - 2s 0us/step\n"
          ]
        }
      ]
    },
    {
      "cell_type": "code",
      "metadata": {
        "colab": {
          "base_uri": "https://localhost:8080/"
        },
        "id": "R7wbBXT2geK2",
        "outputId": "e301919f-5182-4db0-8f17-3045b67b8f30"
      },
      "source": [
        "print(f\" Train Shape {x_train.shape}\")\n",
        "print(f\" Test Shape {xtest.shape}\")"
      ],
      "execution_count": null,
      "outputs": [
        {
          "output_type": "stream",
          "name": "stdout",
          "text": [
            " Train Shape (50000, 32, 32, 3)\n",
            " Test Shape (10000, 32, 32, 3)\n"
          ]
        }
      ]
    },
    {
      "cell_type": "code",
      "metadata": {
        "colab": {
          "base_uri": "https://localhost:8080/"
        },
        "id": "qcrMrfcggHSt",
        "outputId": "253f57d2-3757-4479-bb2b-9eb10c4edf02"
      },
      "source": [
        "batchSize = 256\n",
        "validationSetSize = 10_000\n",
        "\n",
        "def transformdata(image,label):\n",
        "  lable  =  tf.one_hot(label,10)\n",
        "  return image,label\n",
        "\n",
        "def randomise_image(image):\n",
        "  image = tf.image.random_flip_left_right(image)\n",
        "  image = tf.image.random_flip_up_down(image)\n",
        "  image = tf.image.random_flip_left_right(image)\n",
        "  image = tf.image.convert_image_dtype(image, tf.float32)/255\n",
        "  return image\n",
        " \n",
        "dataset = tf.data.Dataset.from_tensor_slices((x_train,y_train)).map(lambda x,y:transformdata(x,y)).cache().map(lambda w,z:(randomise_image(w),z), num_parallel_calls=tf.data.AUTOTUNE).prefetch(tf.data.AUTOTUNE).shuffle(5*batchSize).repeat()\n",
        "test_dataset = tf.data.Dataset.from_tensor_slices((xtest,ytest)).map(lambda x,y:transformdata(x,y)).map(lambda w,z:(randomise_image(w),z), num_parallel_calls=tf.data.AUTOTUNE).prefetch(tf.data.AUTOTUNE).batch(500)\n",
        "val_dataset = dataset.take(validationSetSize).batch(batchSize)\n",
        "train_dataset =dataset.skip(validationSetSize).batch(batchSize)\n",
        "val_dataset.take(1)"
      ],
      "execution_count": null,
      "outputs": [
        {
          "output_type": "execute_result",
          "data": {
            "text/plain": [
              "<TakeDataset shapes: ((None, 32, 32, 3), (None, 1)), types: (tf.float32, tf.uint8)>"
            ]
          },
          "metadata": {},
          "execution_count": 60
        }
      ]
    },
    {
      "cell_type": "code",
      "metadata": {
        "colab": {
          "base_uri": "https://localhost:8080/"
        },
        "id": "qoCY_JiMgHk5",
        "outputId": "f6328cdc-262e-411a-d81c-eccf5078386d"
      },
      "source": [
        "cifar10_base_model =keras.models.Sequential([\n",
        "keras.layers.Conv2D(32,(3,3),activation = 'relu',input_shape=(32,32,3), padding= 'same'),\n",
        "keras.layers.Conv2D(64,(3,3),activation = 'relu', padding= 'same'),\n",
        "keras.layers.MaxPooling2D(2,2),\n",
        "keras.layers.Conv2D(128,(3,3),activation = 'relu', padding= 'same'),\n",
        "keras.layers.Conv2D(256,(3,3),activation = 'relu', padding= 'same'),\n",
        "keras.layers.MaxPooling2D(2,2),\n",
        "keras.layers.Conv2D(512,(3,3),activation = 'relu', padding= 'same'),\n",
        "keras.layers.Flatten(),\n",
        "keras.layers.Dense(254,activation = 'relu'), \n",
        "keras.layers.Dense(128,activation = 'relu'),                         \n",
        "keras.layers.Dense(10,activation = 'softmax')\n",
        "])\n",
        "cifar10_base_model.compile(loss= keras.losses.sparse_categorical_crossentropy, optimizer=keras.optimizers.Adam(),metrics=[\"accuracy\"])\n",
        "cifar10_base_model.summary()"
      ],
      "execution_count": null,
      "outputs": [
        {
          "output_type": "stream",
          "name": "stdout",
          "text": [
            "Model: \"sequential_19\"\n",
            "_________________________________________________________________\n",
            "Layer (type)                 Output Shape              Param #   \n",
            "=================================================================\n",
            "conv2d_40 (Conv2D)           (None, 32, 32, 32)        896       \n",
            "_________________________________________________________________\n",
            "conv2d_41 (Conv2D)           (None, 32, 32, 64)        18496     \n",
            "_________________________________________________________________\n",
            "max_pooling2d_16 (MaxPooling (None, 16, 16, 64)        0         \n",
            "_________________________________________________________________\n",
            "conv2d_42 (Conv2D)           (None, 16, 16, 128)       73856     \n",
            "_________________________________________________________________\n",
            "conv2d_43 (Conv2D)           (None, 16, 16, 256)       295168    \n",
            "_________________________________________________________________\n",
            "max_pooling2d_17 (MaxPooling (None, 8, 8, 256)         0         \n",
            "_________________________________________________________________\n",
            "conv2d_44 (Conv2D)           (None, 8, 8, 512)         1180160   \n",
            "_________________________________________________________________\n",
            "flatten_17 (Flatten)         (None, 32768)             0         \n",
            "_________________________________________________________________\n",
            "dense_52 (Dense)             (None, 254)               8323326   \n",
            "_________________________________________________________________\n",
            "dense_53 (Dense)             (None, 128)               32640     \n",
            "_________________________________________________________________\n",
            "dense_54 (Dense)             (None, 10)                1290      \n",
            "=================================================================\n",
            "Total params: 9,925,832\n",
            "Trainable params: 9,925,832\n",
            "Non-trainable params: 0\n",
            "_________________________________________________________________\n"
          ]
        }
      ]
    },
    {
      "cell_type": "code",
      "metadata": {
        "colab": {
          "base_uri": "https://localhost:8080/"
        },
        "id": "t2sfvFKigH0I",
        "outputId": "d54309d8-1ddb-4121-efb7-632ddacdd406"
      },
      "source": [
        "TB =TensorBoard(\n",
        "    log_dir=\"./logs/CNN cifar10_base_model\",\n",
        "    histogram_freq=0,\n",
        "    write_images=True,\n",
        "    write_graph=True\n",
        ")\n",
        "\n",
        "ES=EarlyStopping(\n",
        "    monitor=\"val_loss\",\n",
        "    min_delta=0,\n",
        "    patience=50,\n",
        "    verbose=1,\n",
        "    mode=\"min\",\n",
        "    baseline=None,\n",
        "    restore_best_weights=True,\n",
        ")\n",
        "\n",
        "history_cifar10_base_model=cifar10_base_model.fit(\n",
        "      train_dataset,\n",
        "      epochs=1000,\n",
        "      steps_per_epoch=int(50000/batchSize), \n",
        "      validation_steps =int(10000/batchSize),\n",
        "      verbose=0, validation_data=val_dataset,\n",
        "      callbacks= [TB,ES]\n",
        "      )"
      ],
      "execution_count": null,
      "outputs": [
        {
          "output_type": "stream",
          "name": "stdout",
          "text": [
            "Restoring model weights from the end of the best epoch.\n",
            "Epoch 00056: early stopping\n"
          ]
        }
      ]
    },
    {
      "cell_type": "code",
      "metadata": {
        "colab": {
          "base_uri": "https://localhost:8080/"
        },
        "id": "ZPNzVucWkPcU",
        "outputId": "4bce2349-3b20-4f8c-e0dd-a44b8dd22e85"
      },
      "source": [
        "print(\"test score\")\n",
        "print(cifar10_base_model.evaluate(test_dataset, verbose=1))\n",
        "cifar10_base_model.save(\"./drive/My Drive/cifar10 base\")\n",
        "print(\"validation score\")\n",
        "print(cifar10_base_model.evaluate(val_dataset, verbose=1))\n",
        "np.save('./drive/My Drive/cifar10 base.npy',history_cifar10_base_model.history)"
      ],
      "execution_count": null,
      "outputs": [
        {
          "output_type": "stream",
          "name": "stdout",
          "text": [
            "test score\n",
            "20/20 [==============================] - 2s 97ms/step - loss: 2.3026 - accuracy: 0.1000\n",
            "[2.30258846282959, 0.10000000149011612]\n",
            "INFO:tensorflow:Assets written to: ./drive/My Drive/cifar10 base/assets\n",
            "validation score\n",
            "40/40 [==============================] - 2s 44ms/step - loss: 2.3026 - accuracy: 0.1034\n",
            "[2.302553176879883, 0.10339999943971634]\n"
          ]
        }
      ]
    },
    {
      "cell_type": "code",
      "metadata": {
        "colab": {
          "base_uri": "https://localhost:8080/",
          "height": 494
        },
        "id": "bEQ2up-DjNIb",
        "outputId": "93a1a124-262c-4a74-84a1-b1feb4c16688"
      },
      "source": [
        "plt.figure(figsize = (10,8))\n",
        "plt.plot(history_cifar10_base_model.history[\"loss\"], label=\"Train loss\")\n",
        "plt.plot(history_cifar10_base_model.history[\"val_loss\"], label=\"Validation loss\")\n",
        "plt.legend()\n",
        "plt.show()"
      ],
      "execution_count": null,
      "outputs": [
        {
          "output_type": "display_data",
          "data": {
            "image/png": "[encoded data removed]",
            "text/plain": [
              "<Figure size 720x576 with 1 Axes>"
            ]
          },
          "metadata": {
            "needs_background": "light"
          }
        }
      ]
    },
    {
      "cell_type": "code",
      "metadata": {
        "colab": {
          "base_uri": "https://localhost:8080/",
          "height": 483
        },
        "id": "Nb_dZc5Dk6f4",
        "outputId": "db53eefa-a952-4776-ac16-c81648967714"
      },
      "source": [
        "plt.figure(figsize = (10,8))\n",
        "plt.plot(history_cifar10_base_model.history[\"accuracy\"], label=\"Train Acc\")\n",
        "plt.plot(history_cifar10_base_model.history[\"val_accuracy\"], label=\"Validation Acc\")\n",
        "plt.legend()\n",
        "plt.show()"
      ],
      "execution_count": null,
      "outputs": [
        {
          "output_type": "display_data",
          "data": {
            "image/png": "[encoded data removed]",
            "text/plain": [
              "<Figure size 720x576 with 1 Axes>"
            ]
          },
          "metadata": {
            "needs_background": "light"
          }
        }
      ]
    },
    {
      "cell_type": "markdown",
      "metadata": {
        "id": "9NTjVIUkmv7S"
      },
      "source": [
        "#### Task 2.1.3 Train a ResNet\n",
        "\n",
        "Train a residual neural network (ResNet) on the CIFAR10 training data and report the test accuracy and the training time.\n",
        "\n",
        "The ResNet is a popular network architecture for image classification. You may find more information about how ResNet works by reading this [paper](https://arxiv.org/abs/1512.03385).\n",
        "\n",
        "\n",
        "*(You may implement a resnet model or use an existing implementation. In either case, you should not use pretrained network weights.)*"
      ]
    },
    {
      "cell_type": "code",
      "metadata": {
        "colab": {
          "base_uri": "https://localhost:8080/"
        },
        "id": "MM4CCYYDv9ZO",
        "outputId": "415b6917-ca01-42e3-ce32-2848912954a8"
      },
      "source": [
        "res_net_base =tf.keras.applications.ResNet50(include_top=False, input_shape=(200, 200, 3))\n",
        "\n",
        "res_net_base.trainble = False \n",
        "res_net_base.summary()"
      ],
      "execution_count": null,
      "outputs": [
        {
          "output_type": "stream",
          "name": "stdout",
          "text": [
            "Downloading data from https://storage.googleapis.com/tensorflow/keras-applications/resnet/resnet50_weights_tf_dim_ordering_tf_kernels_notop.h5\n",
            "94773248/94765736 [==============================] - 1s 0us/step\n",
            "94781440/94765736 [==============================] - 1s 0us/step\n",
            "Model: \"resnet50\"\n",
            "__________________________________________________________________________________________________\n",
            "Layer (type)                    Output Shape         Param #     Connected to                     \n",
            "==================================================================================================\n",
            "input_5 (InputLayer)            [(None, 200, 200, 3) 0                                            \n",
            "__________________________________________________________________________________________________\n",
            "conv1_pad (ZeroPadding2D)       (None, 206, 206, 3)  0           input_5[0][0]                    \n",
            "__________________________________________________________________________________________________\n",
            "conv1_conv (Conv2D)             (None, 100, 100, 64) 9472        conv1_pad[0][0]                  \n",
            "__________________________________________________________________________________________________\n",
            "conv1_bn (BatchNormalization)   (None, 100, 100, 64) 256         conv1_conv[0][0]                 \n",
            "__________________________________________________________________________________________________\n",
            "conv1_relu (Activation)         (None, 100, 100, 64) 0           conv1_bn[0][0]                   \n",
            "__________________________________________________________________________________________________\n",
            "pool1_pad (ZeroPadding2D)       (None, 102, 102, 64) 0           conv1_relu[0][0]                 \n",
            "__________________________________________________________________________________________________\n",
            "pool1_pool (MaxPooling2D)       (None, 50, 50, 64)   0           pool1_pad[0][0]                  \n",
            "__________________________________________________________________________________________________\n",
            "conv2_block1_1_conv (Conv2D)    (None, 50, 50, 64)   4160        pool1_pool[0][0]                 \n",
            "__________________________________________________________________________________________________\n",
            "conv2_block1_1_bn (BatchNormali (None, 50, 50, 64)   256         conv2_block1_1_conv[0][0]        \n",
            "__________________________________________________________________________________________________\n",
            "conv2_block1_1_relu (Activation (None, 50, 50, 64)   0           conv2_block1_1_bn[0][0]          \n",
            "__________________________________________________________________________________________________\n",
            "conv2_block1_2_conv (Conv2D)    (None, 50, 50, 64)   36928       conv2_block1_1_relu[0][0]        \n",
            "__________________________________________________________________________________________________\n",
            "conv2_block1_2_bn (BatchNormali (None, 50, 50, 64)   256         conv2_block1_2_conv[0][0]        \n",
            "__________________________________________________________________________________________________\n",
            "conv2_block1_2_relu (Activation (None, 50, 50, 64)   0           conv2_block1_2_bn[0][0]          \n",
            "__________________________________________________________________________________________________\n",
            "conv2_block1_0_conv (Conv2D)    (None, 50, 50, 256)  16640       pool1_pool[0][0]                 \n",
            "__________________________________________________________________________________________________\n",
            "conv2_block1_3_conv (Conv2D)    (None, 50, 50, 256)  16640       conv2_block1_2_relu[0][0]        \n",
            "__________________________________________________________________________________________________\n",
            "conv2_block1_0_bn (BatchNormali (None, 50, 50, 256)  1024        conv2_block1_0_conv[0][0]        \n",
            "__________________________________________________________________________________________________\n",
            "conv2_block1_3_bn (BatchNormali (None, 50, 50, 256)  1024        conv2_block1_3_conv[0][0]        \n",
            "__________________________________________________________________________________________________\n",
            "conv2_block1_add (Add)          (None, 50, 50, 256)  0           conv2_block1_0_bn[0][0]          \n",
            "                                                                 conv2_block1_3_bn[0][0]          \n",
            "__________________________________________________________________________________________________\n",
            "conv2_block1_out (Activation)   (None, 50, 50, 256)  0           conv2_block1_add[0][0]           \n",
            "__________________________________________________________________________________________________\n",
            "conv2_block2_1_conv (Conv2D)    (None, 50, 50, 64)   16448       conv2_block1_out[0][0]           \n",
            "__________________________________________________________________________________________________\n",
            "conv2_block2_1_bn (BatchNormali (None, 50, 50, 64)   256         conv2_block2_1_conv[0][0]        \n",
            "__________________________________________________________________________________________________\n",
            "conv2_block2_1_relu (Activation (None, 50, 50, 64)   0           conv2_block2_1_bn[0][0]          \n",
            "__________________________________________________________________________________________________\n",
            "conv2_block2_2_conv (Conv2D)    (None, 50, 50, 64)   36928       conv2_block2_1_relu[0][0]        \n",
            "__________________________________________________________________________________________________\n",
            "conv2_block2_2_bn (BatchNormali (None, 50, 50, 64)   256         conv2_block2_2_conv[0][0]        \n",
            "__________________________________________________________________________________________________\n",
            "conv2_block2_2_relu (Activation (None, 50, 50, 64)   0           conv2_block2_2_bn[0][0]          \n",
            "__________________________________________________________________________________________________\n",
            "conv2_block2_3_conv (Conv2D)    (None, 50, 50, 256)  16640       conv2_block2_2_relu[0][0]        \n",
            "__________________________________________________________________________________________________\n",
            "conv2_block2_3_bn (BatchNormali (None, 50, 50, 256)  1024        conv2_block2_3_conv[0][0]        \n",
            "__________________________________________________________________________________________________\n",
            "conv2_block2_add (Add)          (None, 50, 50, 256)  0           conv2_block1_out[0][0]           \n",
            "                                                                 conv2_block2_3_bn[0][0]          \n",
            "__________________________________________________________________________________________________\n",
            "conv2_block2_out (Activation)   (None, 50, 50, 256)  0           conv2_block2_add[0][0]           \n",
            "__________________________________________________________________________________________________\n",
            "conv2_block3_1_conv (Conv2D)    (None, 50, 50, 64)   16448       conv2_block2_out[0][0]           \n",
            "__________________________________________________________________________________________________\n",
            "conv2_block3_1_bn (BatchNormali (None, 50, 50, 64)   256         conv2_block3_1_conv[0][0]        \n",
            "__________________________________________________________________________________________________\n",
            "conv2_block3_1_relu (Activation (None, 50, 50, 64)   0           conv2_block3_1_bn[0][0]          \n",
            "__________________________________________________________________________________________________\n",
            "conv2_block3_2_conv (Conv2D)    (None, 50, 50, 64)   36928       conv2_block3_1_relu[0][0]        \n",
            "__________________________________________________________________________________________________\n",
            "conv2_block3_2_bn (BatchNormali (None, 50, 50, 64)   256         conv2_block3_2_conv[0][0]        \n",
            "__________________________________________________________________________________________________\n",
            "conv2_block3_2_relu (Activation (None, 50, 50, 64)   0           conv2_block3_2_bn[0][0]          \n",
            "__________________________________________________________________________________________________\n",
            "conv2_block3_3_conv (Conv2D)    (None, 50, 50, 256)  16640       conv2_block3_2_relu[0][0]        \n",
            "__________________________________________________________________________________________________\n",
            "conv2_block3_3_bn (BatchNormali (None, 50, 50, 256)  1024        conv2_block3_3_conv[0][0]        \n",
            "__________________________________________________________________________________________________\n",
            "conv2_block3_add (Add)          (None, 50, 50, 256)  0           conv2_block2_out[0][0]           \n",
            "                                                                 conv2_block3_3_bn[0][0]          \n",
            "__________________________________________________________________________________________________\n",
            "conv2_block3_out (Activation)   (None, 50, 50, 256)  0           conv2_block3_add[0][0]           \n",
            "__________________________________________________________________________________________________\n",
            "conv3_block1_1_conv (Conv2D)    (None, 25, 25, 128)  32896       conv2_block3_out[0][0]           \n",
            "__________________________________________________________________________________________________\n",
            "conv3_block1_1_bn (BatchNormali (None, 25, 25, 128)  512         conv3_block1_1_conv[0][0]        \n",
            "__________________________________________________________________________________________________\n",
            "conv3_block1_1_relu (Activation (None, 25, 25, 128)  0           conv3_block1_1_bn[0][0]          \n",
            "__________________________________________________________________________________________________\n",
            "conv3_block1_2_conv (Conv2D)    (None, 25, 25, 128)  147584      conv3_block1_1_relu[0][0]        \n",
            "__________________________________________________________________________________________________\n",
            "conv3_block1_2_bn (BatchNormali (None, 25, 25, 128)  512         conv3_block1_2_conv[0][0]        \n",
            "__________________________________________________________________________________________________\n",
            "conv3_block1_2_relu (Activation (None, 25, 25, 128)  0           conv3_block1_2_bn[0][0]          \n",
            "__________________________________________________________________________________________________\n",
            "conv3_block1_0_conv (Conv2D)    (None, 25, 25, 512)  131584      conv2_block3_out[0][0]           \n",
            "__________________________________________________________________________________________________\n",
            "conv3_block1_3_conv (Conv2D)    (None, 25, 25, 512)  66048       conv3_block1_2_relu[0][0]        \n",
            "__________________________________________________________________________________________________\n",
            "conv3_block1_0_bn (BatchNormali (None, 25, 25, 512)  2048        conv3_block1_0_conv[0][0]        \n",
            "__________________________________________________________________________________________________\n",
            "conv3_block1_3_bn (BatchNormali (None, 25, 25, 512)  2048        conv3_block1_3_conv[0][0]        \n",
            "__________________________________________________________________________________________________\n",
            "conv3_block1_add (Add)          (None, 25, 25, 512)  0           conv3_block1_0_bn[0][0]          \n",
            "                                                                 conv3_block1_3_bn[0][0]          \n",
            "__________________________________________________________________________________________________\n",
            "conv3_block1_out (Activation)   (None, 25, 25, 512)  0           conv3_block1_add[0][0]           \n",
            "__________________________________________________________________________________________________\n",
            "conv3_block2_1_conv (Conv2D)    (None, 25, 25, 128)  65664       conv3_block1_out[0][0]           \n",
            "__________________________________________________________________________________________________\n",
            "conv3_block2_1_bn (BatchNormali (None, 25, 25, 128)  512         conv3_block2_1_conv[0][0]        \n",
            "__________________________________________________________________________________________________\n",
            "conv3_block2_1_relu (Activation (None, 25, 25, 128)  0           conv3_block2_1_bn[0][0]          \n",
            "__________________________________________________________________________________________________\n",
            "conv3_block2_2_conv (Conv2D)    (None, 25, 25, 128)  147584      conv3_block2_1_relu[0][0]        \n",
            "__________________________________________________________________________________________________\n",
            "conv3_block2_2_bn (BatchNormali (None, 25, 25, 128)  512         conv3_block2_2_conv[0][0]        \n",
            "__________________________________________________________________________________________________\n",
            "conv3_block2_2_relu (Activation (None, 25, 25, 128)  0           conv3_block2_2_bn[0][0]          \n",
            "__________________________________________________________________________________________________\n",
            "conv3_block2_3_conv (Conv2D)    (None, 25, 25, 512)  66048       conv3_block2_2_relu[0][0]        \n",
            "__________________________________________________________________________________________________\n",
            "conv3_block2_3_bn (BatchNormali (None, 25, 25, 512)  2048        conv3_block2_3_conv[0][0]        \n",
            "__________________________________________________________________________________________________\n",
            "conv3_block2_add (Add)          (None, 25, 25, 512)  0           conv3_block1_out[0][0]           \n",
            "                                                                 conv3_block2_3_bn[0][0]          \n",
            "__________________________________________________________________________________________________\n",
            "conv3_block2_out (Activation)   (None, 25, 25, 512)  0           conv3_block2_add[0][0]           \n",
            "__________________________________________________________________________________________________\n",
            "conv3_block3_1_conv (Conv2D)    (None, 25, 25, 128)  65664       conv3_block2_out[0][0]           \n",
            "__________________________________________________________________________________________________\n",
            "conv3_block3_1_bn (BatchNormali (None, 25, 25, 128)  512         conv3_block3_1_conv[0][0]        \n",
            "__________________________________________________________________________________________________\n",
            "conv3_block3_1_relu (Activation (None, 25, 25, 128)  0           conv3_block3_1_bn[0][0]          \n",
            "__________________________________________________________________________________________________\n",
            "conv3_block3_2_conv (Conv2D)    (None, 25, 25, 128)  147584      conv3_block3_1_relu[0][0]        \n",
            "__________________________________________________________________________________________________\n",
            "conv3_block3_2_bn (BatchNormali (None, 25, 25, 128)  512         conv3_block3_2_conv[0][0]        \n",
            "__________________________________________________________________________________________________\n",
            "conv3_block3_2_relu (Activation (None, 25, 25, 128)  0           conv3_block3_2_bn[0][0]          \n",
            "__________________________________________________________________________________________________\n",
            "conv3_block3_3_conv (Conv2D)    (None, 25, 25, 512)  66048       conv3_block3_2_relu[0][0]        \n",
            "__________________________________________________________________________________________________\n",
            "conv3_block3_3_bn (BatchNormali (None, 25, 25, 512)  2048        conv3_block3_3_conv[0][0]        \n",
            "__________________________________________________________________________________________________\n",
            "conv3_block3_add (Add)          (None, 25, 25, 512)  0           conv3_block2_out[0][0]           \n",
            "                                                                 conv3_block3_3_bn[0][0]          \n",
            "__________________________________________________________________________________________________\n",
            "conv3_block3_out (Activation)   (None, 25, 25, 512)  0           conv3_block3_add[0][0]           \n",
            "__________________________________________________________________________________________________\n",
            "conv3_block4_1_conv (Conv2D)    (None, 25, 25, 128)  65664       conv3_block3_out[0][0]           \n",
            "__________________________________________________________________________________________________\n",
            "conv3_block4_1_bn (BatchNormali (None, 25, 25, 128)  512         conv3_block4_1_conv[0][0]        \n",
            "__________________________________________________________________________________________________\n",
            "conv3_block4_1_relu (Activation (None, 25, 25, 128)  0           conv3_block4_1_bn[0][0]          \n",
            "__________________________________________________________________________________________________\n",
            "conv3_block4_2_conv (Conv2D)    (None, 25, 25, 128)  147584      conv3_block4_1_relu[0][0]        \n",
            "__________________________________________________________________________________________________\n",
            "conv3_block4_2_bn (BatchNormali (None, 25, 25, 128)  512         conv3_block4_2_conv[0][0]        \n",
            "__________________________________________________________________________________________________\n",
            "conv3_block4_2_relu (Activation (None, 25, 25, 128)  0           conv3_block4_2_bn[0][0]          \n",
            "__________________________________________________________________________________________________\n",
            "conv3_block4_3_conv (Conv2D)    (None, 25, 25, 512)  66048       conv3_block4_2_relu[0][0]        \n",
            "__________________________________________________________________________________________________\n",
            "conv3_block4_3_bn (BatchNormali (None, 25, 25, 512)  2048        conv3_block4_3_conv[0][0]        \n",
            "__________________________________________________________________________________________________\n",
            "conv3_block4_add (Add)          (None, 25, 25, 512)  0           conv3_block3_out[0][0]           \n",
            "                                                                 conv3_block4_3_bn[0][0]          \n",
            "__________________________________________________________________________________________________\n",
            "conv3_block4_out (Activation)   (None, 25, 25, 512)  0           conv3_block4_add[0][0]           \n",
            "__________________________________________________________________________________________________\n",
            "conv4_block1_1_conv (Conv2D)    (None, 13, 13, 256)  131328      conv3_block4_out[0][0]           \n",
            "__________________________________________________________________________________________________\n",
            "conv4_block1_1_bn (BatchNormali (None, 13, 13, 256)  1024        conv4_block1_1_conv[0][0]        \n",
            "__________________________________________________________________________________________________\n",
            "conv4_block1_1_relu (Activation (None, 13, 13, 256)  0           conv4_block1_1_bn[0][0]          \n",
            "__________________________________________________________________________________________________\n",
            "conv4_block1_2_conv (Conv2D)    (None, 13, 13, 256)  590080      conv4_block1_1_relu[0][0]        \n",
            "__________________________________________________________________________________________________\n",
            "conv4_block1_2_bn (BatchNormali (None, 13, 13, 256)  1024        conv4_block1_2_conv[0][0]        \n",
            "__________________________________________________________________________________________________\n",
            "conv4_block1_2_relu (Activation (None, 13, 13, 256)  0           conv4_block1_2_bn[0][0]          \n",
            "__________________________________________________________________________________________________\n",
            "conv4_block1_0_conv (Conv2D)    (None, 13, 13, 1024) 525312      conv3_block4_out[0][0]           \n",
            "__________________________________________________________________________________________________\n",
            "conv4_block1_3_conv (Conv2D)    (None, 13, 13, 1024) 263168      conv4_block1_2_relu[0][0]        \n",
            "__________________________________________________________________________________________________\n",
            "conv4_block1_0_bn (BatchNormali (None, 13, 13, 1024) 4096        conv4_block1_0_conv[0][0]        \n",
            "__________________________________________________________________________________________________\n",
            "conv4_block1_3_bn (BatchNormali (None, 13, 13, 1024) 4096        conv4_block1_3_conv[0][0]        \n",
            "__________________________________________________________________________________________________\n",
            "conv4_block1_add (Add)          (None, 13, 13, 1024) 0           conv4_block1_0_bn[0][0]          \n",
            "                                                                 conv4_block1_3_bn[0][0]          \n",
            "__________________________________________________________________________________________________\n",
            "conv4_block1_out (Activation)   (None, 13, 13, 1024) 0           conv4_block1_add[0][0]           \n",
            "__________________________________________________________________________________________________\n",
            "conv4_block2_1_conv (Conv2D)    (None, 13, 13, 256)  262400      conv4_block1_out[0][0]           \n",
            "__________________________________________________________________________________________________\n",
            "conv4_block2_1_bn (BatchNormali (None, 13, 13, 256)  1024        conv4_block2_1_conv[0][0]        \n",
            "__________________________________________________________________________________________________\n",
            "conv4_block2_1_relu (Activation (None, 13, 13, 256)  0           conv4_block2_1_bn[0][0]          \n",
            "__________________________________________________________________________________________________\n",
            "conv4_block2_2_conv (Conv2D)    (None, 13, 13, 256)  590080      conv4_block2_1_relu[0][0]        \n",
            "__________________________________________________________________________________________________\n",
            "conv4_block2_2_bn (BatchNormali (None, 13, 13, 256)  1024        conv4_block2_2_conv[0][0]        \n",
            "__________________________________________________________________________________________________\n",
            "conv4_block2_2_relu (Activation (None, 13, 13, 256)  0           conv4_block2_2_bn[0][0]          \n",
            "__________________________________________________________________________________________________\n",
            "conv4_block2_3_conv (Conv2D)    (None, 13, 13, 1024) 263168      conv4_block2_2_relu[0][0]        \n",
            "__________________________________________________________________________________________________\n",
            "conv4_block2_3_bn (BatchNormali (None, 13, 13, 1024) 4096        conv4_block2_3_conv[0][0]        \n",
            "__________________________________________________________________________________________________\n",
            "conv4_block2_add (Add)          (None, 13, 13, 1024) 0           conv4_block1_out[0][0]           \n",
            "                                                                 conv4_block2_3_bn[0][0]          \n",
            "__________________________________________________________________________________________________\n",
            "conv4_block2_out (Activation)   (None, 13, 13, 1024) 0           conv4_block2_add[0][0]           \n",
            "__________________________________________________________________________________________________\n",
            "conv4_block3_1_conv (Conv2D)    (None, 13, 13, 256)  262400      conv4_block2_out[0][0]           \n",
            "__________________________________________________________________________________________________\n",
            "conv4_block3_1_bn (BatchNormali (None, 13, 13, 256)  1024        conv4_block3_1_conv[0][0]        \n",
            "__________________________________________________________________________________________________\n",
            "conv4_block3_1_relu (Activation (None, 13, 13, 256)  0           conv4_block3_1_bn[0][0]          \n",
            "__________________________________________________________________________________________________\n",
            "conv4_block3_2_conv (Conv2D)    (None, 13, 13, 256)  590080      conv4_block3_1_relu[0][0]        \n",
            "__________________________________________________________________________________________________\n",
            "conv4_block3_2_bn (BatchNormali (None, 13, 13, 256)  1024        conv4_block3_2_conv[0][0]        \n",
            "__________________________________________________________________________________________________\n",
            "conv4_block3_2_relu (Activation (None, 13, 13, 256)  0           conv4_block3_2_bn[0][0]          \n",
            "__________________________________________________________________________________________________\n",
            "conv4_block3_3_conv (Conv2D)    (None, 13, 13, 1024) 263168      conv4_block3_2_relu[0][0]        \n",
            "__________________________________________________________________________________________________\n",
            "conv4_block3_3_bn (BatchNormali (None, 13, 13, 1024) 4096        conv4_block3_3_conv[0][0]        \n",
            "__________________________________________________________________________________________________\n",
            "conv4_block3_add (Add)          (None, 13, 13, 1024) 0           conv4_block2_out[0][0]           \n",
            "                                                                 conv4_block3_3_bn[0][0]          \n",
            "__________________________________________________________________________________________________\n",
            "conv4_block3_out (Activation)   (None, 13, 13, 1024) 0           conv4_block3_add[0][0]           \n",
            "__________________________________________________________________________________________________\n",
            "conv4_block4_1_conv (Conv2D)    (None, 13, 13, 256)  262400      conv4_block3_out[0][0]           \n",
            "__________________________________________________________________________________________________\n",
            "conv4_block4_1_bn (BatchNormali (None, 13, 13, 256)  1024        conv4_block4_1_conv[0][0]        \n",
            "__________________________________________________________________________________________________\n",
            "conv4_block4_1_relu (Activation (None, 13, 13, 256)  0           conv4_block4_1_bn[0][0]          \n",
            "__________________________________________________________________________________________________\n",
            "conv4_block4_2_conv (Conv2D)    (None, 13, 13, 256)  590080      conv4_block4_1_relu[0][0]        \n",
            "__________________________________________________________________________________________________\n",
            "conv4_block4_2_bn (BatchNormali (None, 13, 13, 256)  1024        conv4_block4_2_conv[0][0]        \n",
            "__________________________________________________________________________________________________\n",
            "conv4_block4_2_relu (Activation (None, 13, 13, 256)  0           conv4_block4_2_bn[0][0]          \n",
            "__________________________________________________________________________________________________\n",
            "conv4_block4_3_conv (Conv2D)    (None, 13, 13, 1024) 263168      conv4_block4_2_relu[0][0]        \n",
            "__________________________________________________________________________________________________\n",
            "conv4_block4_3_bn (BatchNormali (None, 13, 13, 1024) 4096        conv4_block4_3_conv[0][0]        \n",
            "__________________________________________________________________________________________________\n",
            "conv4_block4_add (Add)          (None, 13, 13, 1024) 0           conv4_block3_out[0][0]           \n",
            "                                                                 conv4_block4_3_bn[0][0]          \n",
            "__________________________________________________________________________________________________\n",
            "conv4_block4_out (Activation)   (None, 13, 13, 1024) 0           conv4_block4_add[0][0]           \n",
            "__________________________________________________________________________________________________\n",
            "conv4_block5_1_conv (Conv2D)    (None, 13, 13, 256)  262400      conv4_block4_out[0][0]           \n",
            "__________________________________________________________________________________________________\n",
            "conv4_block5_1_bn (BatchNormali (None, 13, 13, 256)  1024        conv4_block5_1_conv[0][0]        \n",
            "__________________________________________________________________________________________________\n",
            "conv4_block5_1_relu (Activation (None, 13, 13, 256)  0           conv4_block5_1_bn[0][0]          \n",
            "__________________________________________________________________________________________________\n",
            "conv4_block5_2_conv (Conv2D)    (None, 13, 13, 256)  590080      conv4_block5_1_relu[0][0]        \n",
            "__________________________________________________________________________________________________\n",
            "conv4_block5_2_bn (BatchNormali (None, 13, 13, 256)  1024        conv4_block5_2_conv[0][0]        \n",
            "__________________________________________________________________________________________________\n",
            "conv4_block5_2_relu (Activation (None, 13, 13, 256)  0           conv4_block5_2_bn[0][0]          \n",
            "__________________________________________________________________________________________________\n",
            "conv4_block5_3_conv (Conv2D)    (None, 13, 13, 1024) 263168      conv4_block5_2_relu[0][0]        \n",
            "__________________________________________________________________________________________________\n",
            "conv4_block5_3_bn (BatchNormali (None, 13, 13, 1024) 4096        conv4_block5_3_conv[0][0]        \n",
            "__________________________________________________________________________________________________\n",
            "conv4_block5_add (Add)          (None, 13, 13, 1024) 0           conv4_block4_out[0][0]           \n",
            "                                                                 conv4_block5_3_bn[0][0]          \n",
            "__________________________________________________________________________________________________\n",
            "conv4_block5_out (Activation)   (None, 13, 13, 1024) 0           conv4_block5_add[0][0]           \n",
            "__________________________________________________________________________________________________\n",
            "conv4_block6_1_conv (Conv2D)    (None, 13, 13, 256)  262400      conv4_block5_out[0][0]           \n",
            "__________________________________________________________________________________________________\n",
            "conv4_block6_1_bn (BatchNormali (None, 13, 13, 256)  1024        conv4_block6_1_conv[0][0]        \n",
            "__________________________________________________________________________________________________\n",
            "conv4_block6_1_relu (Activation (None, 13, 13, 256)  0           conv4_block6_1_bn[0][0]          \n",
            "__________________________________________________________________________________________________\n",
            "conv4_block6_2_conv (Conv2D)    (None, 13, 13, 256)  590080      conv4_block6_1_relu[0][0]        \n",
            "__________________________________________________________________________________________________\n",
            "conv4_block6_2_bn (BatchNormali (None, 13, 13, 256)  1024        conv4_block6_2_conv[0][0]        \n",
            "__________________________________________________________________________________________________\n",
            "conv4_block6_2_relu (Activation (None, 13, 13, 256)  0           conv4_block6_2_bn[0][0]          \n",
            "__________________________________________________________________________________________________\n",
            "conv4_block6_3_conv (Conv2D)    (None, 13, 13, 1024) 263168      conv4_block6_2_relu[0][0]        \n",
            "__________________________________________________________________________________________________\n",
            "conv4_block6_3_bn (BatchNormali (None, 13, 13, 1024) 4096        conv4_block6_3_conv[0][0]        \n",
            "__________________________________________________________________________________________________\n",
            "conv4_block6_add (Add)          (None, 13, 13, 1024) 0           conv4_block5_out[0][0]           \n",
            "                                                                 conv4_block6_3_bn[0][0]          \n",
            "__________________________________________________________________________________________________\n",
            "conv4_block6_out (Activation)   (None, 13, 13, 1024) 0           conv4_block6_add[0][0]           \n",
            "__________________________________________________________________________________________________\n",
            "conv5_block1_1_conv (Conv2D)    (None, 7, 7, 512)    524800      conv4_block6_out[0][0]           \n",
            "__________________________________________________________________________________________________\n",
            "conv5_block1_1_bn (BatchNormali (None, 7, 7, 512)    2048        conv5_block1_1_conv[0][0]        \n",
            "__________________________________________________________________________________________________\n",
            "conv5_block1_1_relu (Activation (None, 7, 7, 512)    0           conv5_block1_1_bn[0][0]          \n",
            "__________________________________________________________________________________________________\n",
            "conv5_block1_2_conv (Conv2D)    (None, 7, 7, 512)    2359808     conv5_block1_1_relu[0][0]        \n",
            "__________________________________________________________________________________________________\n",
            "conv5_block1_2_bn (BatchNormali (None, 7, 7, 512)    2048        conv5_block1_2_conv[0][0]        \n",
            "__________________________________________________________________________________________________\n",
            "conv5_block1_2_relu (Activation (None, 7, 7, 512)    0           conv5_block1_2_bn[0][0]          \n",
            "__________________________________________________________________________________________________\n",
            "conv5_block1_0_conv (Conv2D)    (None, 7, 7, 2048)   2099200     conv4_block6_out[0][0]           \n",
            "__________________________________________________________________________________________________\n",
            "conv5_block1_3_conv (Conv2D)    (None, 7, 7, 2048)   1050624     conv5_block1_2_relu[0][0]        \n",
            "__________________________________________________________________________________________________\n",
            "conv5_block1_0_bn (BatchNormali (None, 7, 7, 2048)   8192        conv5_block1_0_conv[0][0]        \n",
            "__________________________________________________________________________________________________\n",
            "conv5_block1_3_bn (BatchNormali (None, 7, 7, 2048)   8192        conv5_block1_3_conv[0][0]        \n",
            "__________________________________________________________________________________________________\n",
            "conv5_block1_add (Add)          (None, 7, 7, 2048)   0           conv5_block1_0_bn[0][0]          \n",
            "                                                                 conv5_block1_3_bn[0][0]          \n",
            "__________________________________________________________________________________________________\n",
            "conv5_block1_out (Activation)   (None, 7, 7, 2048)   0           conv5_block1_add[0][0]           \n",
            "__________________________________________________________________________________________________\n",
            "conv5_block2_1_conv (Conv2D)    (None, 7, 7, 512)    1049088     conv5_block1_out[0][0]           \n",
            "__________________________________________________________________________________________________\n",
            "conv5_block2_1_bn (BatchNormali (None, 7, 7, 512)    2048        conv5_block2_1_conv[0][0]        \n",
            "__________________________________________________________________________________________________\n",
            "conv5_block2_1_relu (Activation (None, 7, 7, 512)    0           conv5_block2_1_bn[0][0]          \n",
            "__________________________________________________________________________________________________\n",
            "conv5_block2_2_conv (Conv2D)    (None, 7, 7, 512)    2359808     conv5_block2_1_relu[0][0]        \n",
            "__________________________________________________________________________________________________\n",
            "conv5_block2_2_bn (BatchNormali (None, 7, 7, 512)    2048        conv5_block2_2_conv[0][0]        \n",
            "__________________________________________________________________________________________________\n",
            "conv5_block2_2_relu (Activation (None, 7, 7, 512)    0           conv5_block2_2_bn[0][0]          \n",
            "__________________________________________________________________________________________________\n",
            "conv5_block2_3_conv (Conv2D)    (None, 7, 7, 2048)   1050624     conv5_block2_2_relu[0][0]        \n",
            "__________________________________________________________________________________________________\n",
            "conv5_block2_3_bn (BatchNormali (None, 7, 7, 2048)   8192        conv5_block2_3_conv[0][0]        \n",
            "__________________________________________________________________________________________________\n",
            "conv5_block2_add (Add)          (None, 7, 7, 2048)   0           conv5_block1_out[0][0]           \n",
            "                                                                 conv5_block2_3_bn[0][0]          \n",
            "__________________________________________________________________________________________________\n",
            "conv5_block2_out (Activation)   (None, 7, 7, 2048)   0           conv5_block2_add[0][0]           \n",
            "__________________________________________________________________________________________________\n",
            "conv5_block3_1_conv (Conv2D)    (None, 7, 7, 512)    1049088     conv5_block2_out[0][0]           \n",
            "__________________________________________________________________________________________________\n",
            "conv5_block3_1_bn (BatchNormali (None, 7, 7, 512)    2048        conv5_block3_1_conv[0][0]        \n",
            "__________________________________________________________________________________________________\n",
            "conv5_block3_1_relu (Activation (None, 7, 7, 512)    0           conv5_block3_1_bn[0][0]          \n",
            "__________________________________________________________________________________________________\n",
            "conv5_block3_2_conv (Conv2D)    (None, 7, 7, 512)    2359808     conv5_block3_1_relu[0][0]        \n",
            "__________________________________________________________________________________________________\n",
            "conv5_block3_2_bn (BatchNormali (None, 7, 7, 512)    2048        conv5_block3_2_conv[0][0]        \n",
            "__________________________________________________________________________________________________\n",
            "conv5_block3_2_relu (Activation (None, 7, 7, 512)    0           conv5_block3_2_bn[0][0]          \n",
            "__________________________________________________________________________________________________\n",
            "conv5_block3_3_conv (Conv2D)    (None, 7, 7, 2048)   1050624     conv5_block3_2_relu[0][0]        \n",
            "__________________________________________________________________________________________________\n",
            "conv5_block3_3_bn (BatchNormali (None, 7, 7, 2048)   8192        conv5_block3_3_conv[0][0]        \n",
            "__________________________________________________________________________________________________\n",
            "conv5_block3_add (Add)          (None, 7, 7, 2048)   0           conv5_block2_out[0][0]           \n",
            "                                                                 conv5_block3_3_bn[0][0]          \n",
            "__________________________________________________________________________________________________\n",
            "conv5_block3_out (Activation)   (None, 7, 7, 2048)   0           conv5_block3_add[0][0]           \n",
            "==================================================================================================\n",
            "Total params: 23,587,712\n",
            "Trainable params: 23,534,592\n",
            "Non-trainable params: 53,120\n",
            "__________________________________________________________________________________________________\n"
          ]
        }
      ]
    },
    {
      "cell_type": "code",
      "metadata": {
        "colab": {
          "base_uri": "https://localhost:8080/"
        },
        "id": "HZj8vvB6y98x",
        "outputId": "61eb93d6-aa0c-499d-afa8-7191849e720d"
      },
      "source": [
        "Transfer_resnet_model=keras.models.Sequential([\n",
        "res_net_base, \n",
        "keras.layers.Flatten(),\n",
        "keras.layers.Dense(128,activation = 'relu'),                         \n",
        "keras.layers.Dense(10,activation = 'softmax')\n",
        "])\n",
        "Transfer_resnet_model.compile(loss= keras.losses.sparse_categorical_crossentropy, optimizer=keras.optimizers.Adam(),metrics=[\"accuracy\"])\n",
        "Transfer_resnet_model.summary()"
      ],
      "execution_count": null,
      "outputs": [
        {
          "output_type": "stream",
          "name": "stdout",
          "text": [
            "Model: \"sequential_21\"\n",
            "_________________________________________________________________\n",
            "Layer (type)                 Output Shape              Param #   \n",
            "=================================================================\n",
            "resnet50 (Functional)        (None, 7, 7, 2048)        23587712  \n",
            "_________________________________________________________________\n",
            "flatten_18 (Flatten)         (None, 100352)            0         \n",
            "_________________________________________________________________\n",
            "dense_57 (Dense)             (None, 128)               12845184  \n",
            "_________________________________________________________________\n",
            "dense_58 (Dense)             (None, 10)                1290      \n",
            "=================================================================\n",
            "Total params: 36,434,186\n",
            "Trainable params: 36,381,066\n",
            "Non-trainable params: 53,120\n",
            "_________________________________________________________________\n"
          ]
        }
      ]
    },
    {
      "cell_type": "code",
      "metadata": {
        "colab": {
          "base_uri": "https://localhost:8080/"
        },
        "id": "5B7vI4AM-sFc",
        "outputId": "fb8eef56-cf1f-4ee9-d4ab-727ec9fd98fd"
      },
      "source": [
        "batchSize = 32\n",
        "validationSetSize = 10_000\n",
        "Image_size = 200\n",
        "\n",
        "def transformdata(image,label):\n",
        "  lable  =  tf.one_hot(label,10)\n",
        "  return image,label\n",
        "\n",
        "def randomise_image(image):\n",
        "  image = tf.image.random_flip_left_right(image)\n",
        "  image = tf.image.random_flip_up_down(image)\n",
        "  image = tf.image.random_flip_left_right(image)\n",
        "  image = tf.image.convert_image_dtype(image, tf.float32)/255\n",
        "  image = tf.image.resize(image, (Image_size, Image_size))\n",
        "  return image\n",
        " \n",
        "dataset = tf.data.Dataset.from_tensor_slices((x_train,y_train)).map(lambda x,y:transformdata(x,y)).cache().map(lambda w,z:(randomise_image(w),z), num_parallel_calls=tf.data.AUTOTUNE).prefetch(tf.data.AUTOTUNE).shuffle(5*batchSize).repeat()\n",
        "test_dataset = tf.data.Dataset.from_tensor_slices((xtest,ytest)).map(lambda x,y:transformdata(x,y)).map(lambda w,z:(randomise_image(w),z), num_parallel_calls=tf.data.AUTOTUNE).prefetch(tf.data.AUTOTUNE).batch(500)\n",
        "val_dataset = dataset.take(validationSetSize).batch(batchSize)\n",
        "train_dataset =dataset.skip(validationSetSize).batch(batchSize)\n",
        "val_dataset.take(1)"
      ],
      "execution_count": null,
      "outputs": [
        {
          "output_type": "execute_result",
          "data": {
            "text/plain": [
              "<TakeDataset shapes: ((None, 200, 200, 3), (None, 1)), types: (tf.float32, tf.uint8)>"
            ]
          },
          "metadata": {},
          "execution_count": 93
        }
      ]
    },
    {
      "cell_type": "code",
      "metadata": {
        "colab": {
          "base_uri": "https://localhost:8080/"
        },
        "id": "wr3Ac_52_Pz7",
        "outputId": "690ccd79-6c9c-4073-eb1a-92415492de14"
      },
      "source": [
        "#TODO\n",
        "\n",
        "TB =TensorBoard(\n",
        "    log_dir=\"./logs/ResNet cifar10 model\",\n",
        "    histogram_freq=0,\n",
        "    write_images=True,\n",
        "    write_graph=True\n",
        ")\n",
        "\n",
        "ES=EarlyStopping(\n",
        "    monitor=\"val_loss\",\n",
        "    min_delta=0,\n",
        "    patience=50,\n",
        "    verbose=1,\n",
        "    mode=\"min\",\n",
        "    baseline=None,\n",
        "    restore_best_weights=True,\n",
        ")\n",
        "\n",
        "history_cifar10_resnet_model=Transfer_resnet_model.fit(\n",
        "      train_dataset,\n",
        "      epochs=1000,\n",
        "      steps_per_epoch=int(50000/batchSize), \n",
        "      validation_steps =int(10000/batchSize),\n",
        "      verbose=0, validation_data=val_dataset,\n",
        "      callbacks= [TB,ES]\n",
        "      )"
      ],
      "execution_count": null,
      "outputs": [
        {
          "output_type": "stream",
          "name": "stderr",
          "text": [
            "/usr/local/lib/python3.7/dist-packages/keras/utils/generic_utils.py:497: CustomMaskWarning: Custom mask layers require a config and must override get_config. When loading, the custom mask layer must be passed to the custom_objects argument.\n",
            "  category=CustomMaskWarning)\n"
          ]
        }
      ]
    },
    {
      "cell_type": "code",
      "metadata": {
        "id": "6uoVO91i_jpD"
      },
      "source": [
        "print(\"test score\")\n",
        "print(Transfer_resnet_model.evaluate(test_dataset, verbose=1))\n",
        "Transfer_resnet_model.save(\"./drive/My Drive/cifar10 resent\")\n",
        "print(\"validation score\")\n",
        "print(Transfer_resnet_model.evaluate(val_dataset, verbose=1))\n",
        "np.save('./drive/My Drive/cifar10 resnet.npy',history_cifar10_resnet_model.history)"
      ],
      "execution_count": null,
      "outputs": []
    },
    {
      "cell_type": "markdown",
      "metadata": {
        "id": "AH6ZBiECzS75"
      },
      "source": [
        "### Task 2.2 Fast training of ResNet\n",
        "\n",
        "*(weight ~10%)*\n",
        "\n",
        "In this task, you will experiment with different ways to reduce the time for training your ResNet on CIFAR10. There are different ways to speed up neural network training; below are two ideas. Please select at least one idea to implement. Explain the experiment steps and report the final performance and training time.\n",
        "\n",
        "#### Option 1. Learning rate schedule\n",
        "\n",
        "Use a learning rate schedule for the training. Some popular learning rate schedules include \n",
        "\n",
        "- the Step Decay learning rate (e.g., see [here](https://github.com/kuangliu/pytorch-cifar))\n",
        "- [Cyclical learning rates](https://arxiv.org/abs/1506.01186)\n",
        "- [The exponential learning rate](https://openreview.net/forum?id=rJg8TeSFDH) \n",
        "\n",
        "Also, Keras provides [some convenient functions](https://www.tensorflow.org/api_docs/python/tf/keras/optimizers/schedules) that you can use.\n",
        "\n",
        "\n",
        "#### Option 2. Look ahead optimiser\n",
        "\n",
        "Read [this paper](https://arxiv.org/abs/1907.08610) and implement the Lookahead optimiser."
      ]
    },
    {
      "cell_type": "code",
      "metadata": {
        "id": "GpOJxGXgFjNt"
      },
      "source": [
        "learning_rate_sch = keras.optimizers.schedules.ExponentialDecay(\n",
        "    initial_learning_rate=1e-2,\n",
        "    decay_steps=5000,\n",
        "    decay_rate=0.9)\n",
        "\n",
        "res_net_lr_sch =tf.keras.applications.ResNet50(include_top=False, input_shape=(200, 200, 3))\n",
        "\n",
        "res_net_lr_sch.trainble = False \n",
        "Transfer_resnet_model_lr_sch=keras.models.Sequential([\n",
        "res_net_base, \n",
        "keras.layers.Flatten(),\n",
        "keras.layers.Dense(128,activation = 'relu'),                         \n",
        "keras.layers.Dense(10,activation = 'softmax')\n",
        "])\n",
        "Transfer_resnet_model_lr_sch.compile(loss= keras.losses.sparse_categorical_crossentropy, optimizer=keras.optimizers.Adam(learning_rate_sch),metrics=[\"accuracy\"])\n",
        "Transfer_resnet_model_lr_sch.summary()"
      ],
      "execution_count": null,
      "outputs": []
    },
    {
      "cell_type": "code",
      "metadata": {
        "id": "OlBTczf5LI0_"
      },
      "source": [
        "from time import time\n",
        "\n",
        "\n",
        "TB =TensorBoard(\n",
        "    log_dir=\"./logs/ResNet cifar10 model\",\n",
        "    histogram_freq=0,\n",
        "    write_images=True,\n",
        "    write_graph=True\n",
        ")\n",
        "\n",
        "ES=EarlyStopping(\n",
        "    monitor=\"val_loss\",\n",
        "    min_delta=0,\n",
        "    patience=50,\n",
        "    verbose=1,\n",
        "    mode=\"min\",\n",
        "    baseline=None,\n",
        "    restore_best_weights=True,\n",
        ")\n",
        "\n",
        "training_start_time = time()\n",
        "\n",
        "Transfer_resnet_model_lr_sch=Transfer_resnet_model.fit(\n",
        "      train_dataset,\n",
        "      epochs=1000,\n",
        "      steps_per_epoch=int(50000/batchSize), \n",
        "      validation_steps =int(10000/batchSize),\n",
        "      verbose=0, validation_data=val_dataset,\n",
        "      callbacks= [TB,ES]\n",
        "      )\n",
        "traininig_finished_time =  time()\n",
        "print(f\"Training time :{traininig_finished_time-training_start_time}\")\n",
        "\n"
      ],
      "execution_count": null,
      "outputs": []
    },
    {
      "cell_type": "code",
      "metadata": {
        "id": "wb2vHse3MV3G"
      },
      "source": [
        "print(\"test score\")\n",
        "print(history_cifar10_resnet_model.evaluate(test_dataset, verbose=1))\n",
        "Fine_tunning_model.save(\"./drive/My Drive/cifar10 resent\")\n",
        "print(\"validation score\")\n",
        "print(history_cifar10_resnet_model.evaluate(val_dataset, verbose=1))\n",
        "np.save('./drive/My Drive/cifar10 resnet.npy',history_cifar10_resnet_model.history)"
      ],
      "execution_count": null,
      "outputs": []
    },
    {
      "cell_type": "markdown",
      "metadata": {
        "id": "C8cKfAOjpn7c"
      },
      "source": [
        "### Task 2.3 Performance comparison\n",
        "\n",
        "*(weight ~3%)*\n",
        "\n",
        "Based on the above experiments, which method or which combination of methods result in the best accuracy with the same training time."
      ]
    },
    {
      "cell_type": "markdown",
      "metadata": {
        "id": "eWQm8ZfBxDH9"
      },
      "source": [
        "## Task 3 (**HD level task**) Research on new models\n",
        "*(weight ~10%)*\n",
        "\n",
        "Today, ResNet has become a very mature ConvNet architecture. In this task, you will research one recent ConvNet architecture. You may choose an architecture from the reference list below.\n",
        "\n",
        "Write a short report for your research, covering these points:\n",
        "\n",
        "- Identify the main issues that your chosen architecture aims to address. (For example, does it try to reduce the number of parameters or to speed up the training?)\n",
        "- What measures the architecture used to reduce the number of parameters, or reducing the training cost, or improving the model performance?\n",
        "\n",
        "Implement the architecture and compare its performance on CIFAR10 with ResNet. You may include your implementation, experiments, and analyses here in this notebook.\n",
        "\n",
        "**References**:\n",
        "\n",
        "1. Huang G, Liu Z, Van Der Maaten L, Weinberger KQ. *Densely connected convolutional networks*. In Proceedings of the IEEE conference on computer vision and pattern recognition 2017 (pp. 4700-4708).\n",
        "2. Zhang X, Zhou X, Lin M, Sun J. *Shufflenet: An extremely efficient convolutional neural network for mobile devices*. In Proceedings of the IEEE conference on computer vision and pattern recognition 2018 (pp. 6848-6856).\n",
        "3. Tan M, Le Q. *Efficientnet: Rethinking model scaling for convolutional neural networks*. In International Conference on Machine Learning 2019 May 24 (pp. 6105-6114). PMLR.\n",
        "4. Hu J, Shen L, Sun G. *Squeeze-and-excitation networks*. In Proceedings of the IEEE conference on computer vision and pattern recognition 2018 (pp. 7132-7141).\n"
      ]
    },
    {
      "cell_type": "markdown",
      "metadata": {
        "id": "hUV0wuZ01DNA"
      },
      "source": [
        "---\n",
        "**END OF ASSIGNMENT TWO**"
      ]
    }
  ]
}